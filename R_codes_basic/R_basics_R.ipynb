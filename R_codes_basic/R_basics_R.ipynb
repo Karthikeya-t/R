{
  "nbformat": 4,
  "nbformat_minor": 0,
  "metadata": {
    "colab": {
      "name": "R basics .R",
      "provenance": []
    },
    "kernelspec": {
      "name": "ir",
      "display_name": "R"
    }
  },
  "cells": [
    {
      "cell_type": "markdown",
      "metadata": {
        "id": "8rALTcZKYYtV"
      },
      "source": [
        "reference\r\n",
        "\r\n",
        "R for Data Science \r\n",
        "https://www.youtube.com/watch?v=NVyOEwOJgNQ&t=11820s"
      ]
    },
    {
      "cell_type": "markdown",
      "metadata": {
        "id": "P6vKmEEdzMKq"
      },
      "source": [
        "**Open this link in your browser to create a new notebook with R Kernel**\r\n",
        "\r\n",
        "https://colab.research.google.com/notebook#create=true&language=r"
      ]
    },
    {
      "cell_type": "markdown",
      "metadata": {
        "id": "GaI8xYGYExCK"
      },
      "source": [
        "# basics"
      ]
    },
    {
      "cell_type": "markdown",
      "metadata": {
        "id": "HFvxN_io76BI"
      },
      "source": [
        "###  math operations"
      ]
    },
    {
      "cell_type": "code",
      "metadata": {
        "id": "Aw2B4LFCRklR",
        "colab": {
          "base_uri": "https://localhost:8080/",
          "height": 67
        },
        "outputId": "357c2ae2-6352-4528-ff46-e5d8e02bfd53"
      },
      "source": [
        "x<-18\r\n",
        "print(x)\r\n",
        "y<-4\r\n",
        "z<-x+y\r\n",
        "print(z)\r\n",
        "z"
      ],
      "execution_count": null,
      "outputs": [
        {
          "output_type": "stream",
          "text": [
            "[1] 18\n",
            "[1] 22\n"
          ],
          "name": "stdout"
        },
        {
          "output_type": "display_data",
          "data": {
            "text/plain": [
              "[1] 22"
            ],
            "text/latex": "22",
            "text/markdown": "22",
            "text/html": [
              "22"
            ]
          },
          "metadata": {
            "tags": []
          }
        }
      ]
    },
    {
      "cell_type": "code",
      "metadata": {
        "colab": {
          "base_uri": "https://localhost:8080/",
          "height": 84
        },
        "id": "ipcMhJCBEePe",
        "outputId": "b908cbf2-0c63-443b-a141-12a0d0e84d9f"
      },
      "source": [
        "18+4\r\n",
        "18-4\r\n",
        "10/2\r\n",
        "4.5/2"
      ],
      "execution_count": null,
      "outputs": [
        {
          "output_type": "display_data",
          "data": {
            "text/plain": [
              "[1] 22"
            ],
            "text/latex": "22",
            "text/markdown": "22",
            "text/html": [
              "22"
            ]
          },
          "metadata": {
            "tags": []
          }
        },
        {
          "output_type": "display_data",
          "data": {
            "text/plain": [
              "[1] 14"
            ],
            "text/latex": "14",
            "text/markdown": "14",
            "text/html": [
              "14"
            ]
          },
          "metadata": {
            "tags": []
          }
        },
        {
          "output_type": "display_data",
          "data": {
            "text/plain": [
              "[1] 5"
            ],
            "text/latex": "5",
            "text/markdown": "5",
            "text/html": [
              "5"
            ]
          },
          "metadata": {
            "tags": []
          }
        },
        {
          "output_type": "display_data",
          "data": {
            "text/plain": [
              "[1] 2.25"
            ],
            "text/latex": "2.25",
            "text/markdown": "2.25",
            "text/html": [
              "2.25"
            ]
          },
          "metadata": {
            "tags": []
          }
        }
      ]
    },
    {
      "cell_type": "code",
      "metadata": {
        "colab": {
          "base_uri": "https://localhost:8080/",
          "height": 50
        },
        "id": "MCZtM-2HEeV2",
        "outputId": "467a745e-6f2d-4927-d951-d094aac5475d"
      },
      "source": [
        "#exp\r\n",
        "2**3\r\n",
        "2^3"
      ],
      "execution_count": null,
      "outputs": [
        {
          "output_type": "display_data",
          "data": {
            "text/plain": [
              "[1] 8"
            ],
            "text/latex": "8",
            "text/markdown": "8",
            "text/html": [
              "8"
            ]
          },
          "metadata": {
            "tags": []
          }
        },
        {
          "output_type": "display_data",
          "data": {
            "text/plain": [
              "[1] 8"
            ],
            "text/latex": "8",
            "text/markdown": "8",
            "text/html": [
              "8"
            ]
          },
          "metadata": {
            "tags": []
          }
        }
      ]
    },
    {
      "cell_type": "code",
      "metadata": {
        "colab": {
          "base_uri": "https://localhost:8080/",
          "height": 33
        },
        "id": "amUEdcbNEeag",
        "outputId": "8d079494-a1e0-4e2a-bc57-cdb293e0f29c"
      },
      "source": [
        "9**0.5"
      ],
      "execution_count": null,
      "outputs": [
        {
          "output_type": "display_data",
          "data": {
            "text/plain": [
              "[1] 3"
            ],
            "text/latex": "3",
            "text/markdown": "3",
            "text/html": [
              "3"
            ]
          },
          "metadata": {
            "tags": []
          }
        }
      ]
    },
    {
      "cell_type": "code",
      "metadata": {
        "colab": {
          "base_uri": "https://localhost:8080/",
          "height": 33
        },
        "id": "VhGEopAWFfQ2",
        "outputId": "d5505591-5d81-4bd9-a76a-a8af559adcc7"
      },
      "source": [
        "9**1/2\r\n",
        "#division operator has higher precision than exp=>first 9**1 then div by 2"
      ],
      "execution_count": null,
      "outputs": [
        {
          "output_type": "display_data",
          "data": {
            "text/plain": [
              "[1] 4.5"
            ],
            "text/latex": "4.5",
            "text/markdown": "4.5",
            "text/html": [
              "4.5"
            ]
          },
          "metadata": {
            "tags": []
          }
        }
      ]
    },
    {
      "cell_type": "code",
      "metadata": {
        "colab": {
          "base_uri": "https://localhost:8080/",
          "height": 33
        },
        "id": "22IMjaC_F4h6",
        "outputId": "62f8ebd1-9a23-4a58-820c-530614794174"
      },
      "source": [
        "9**(1/2)"
      ],
      "execution_count": null,
      "outputs": [
        {
          "output_type": "display_data",
          "data": {
            "text/plain": [
              "[1] 3"
            ],
            "text/latex": "3",
            "text/markdown": "3",
            "text/html": [
              "3"
            ]
          },
          "metadata": {
            "tags": []
          }
        }
      ]
    },
    {
      "cell_type": "code",
      "metadata": {
        "colab": {
          "base_uri": "https://localhost:8080/",
          "height": 50
        },
        "id": "BkCEVGE_F7mr",
        "outputId": "ce136bda-d1dc-48b8-e05b-824a4787ed61"
      },
      "source": [
        "14%%4 #modulus\r\n",
        "14.75 %% 4"
      ],
      "execution_count": null,
      "outputs": [
        {
          "output_type": "display_data",
          "data": {
            "text/plain": [
              "[1] 2"
            ],
            "text/latex": "2",
            "text/markdown": "2",
            "text/html": [
              "2"
            ]
          },
          "metadata": {
            "tags": []
          }
        },
        {
          "output_type": "display_data",
          "data": {
            "text/plain": [
              "[1] 2.75"
            ],
            "text/latex": "2.75",
            "text/markdown": "2.75",
            "text/html": [
              "2.75"
            ]
          },
          "metadata": {
            "tags": []
          }
        }
      ]
    },
    {
      "cell_type": "code",
      "metadata": {
        "colab": {
          "base_uri": "https://localhost:8080/",
          "height": 50
        },
        "id": "mO0jNcJtF7p_",
        "outputId": "e01805ae-f6e2-432d-8343-db64a3cc4653"
      },
      "source": [
        "8 / 3 #division\r\n",
        "8 %/% 3 #integer division"
      ],
      "execution_count": null,
      "outputs": [
        {
          "output_type": "display_data",
          "data": {
            "text/plain": [
              "[1] 2.666667"
            ],
            "text/latex": "2.66666666666667",
            "text/markdown": "2.66666666666667",
            "text/html": [
              "2.66666666666667"
            ]
          },
          "metadata": {
            "tags": []
          }
        },
        {
          "output_type": "display_data",
          "data": {
            "text/plain": [
              "[1] 2"
            ],
            "text/latex": "2",
            "text/markdown": "2",
            "text/html": [
              "2"
            ]
          },
          "metadata": {
            "tags": []
          }
        }
      ]
    },
    {
      "cell_type": "code",
      "metadata": {
        "colab": {
          "base_uri": "https://localhost:8080/",
          "height": 50
        },
        "id": "cvQflALLGgT3",
        "outputId": "796bd84e-e636-4ac4-a096-156a1168ba9a"
      },
      "source": [
        "-8 /3\r\n",
        "-8 %/% 3\r\n",
        "#integer division give floor value"
      ],
      "execution_count": null,
      "outputs": [
        {
          "output_type": "display_data",
          "data": {
            "text/plain": [
              "[1] -2.666667"
            ],
            "text/latex": "-2.66666666666667",
            "text/markdown": "-2.66666666666667",
            "text/html": [
              "-2.66666666666667"
            ]
          },
          "metadata": {
            "tags": []
          }
        },
        {
          "output_type": "display_data",
          "data": {
            "text/plain": [
              "[1] -3"
            ],
            "text/latex": "-3",
            "text/markdown": "-3",
            "text/html": [
              "-3"
            ]
          },
          "metadata": {
            "tags": []
          }
        }
      ]
    },
    {
      "cell_type": "code",
      "metadata": {
        "colab": {
          "base_uri": "https://localhost:8080/",
          "height": 50
        },
        "id": "VvfN6DfYG3er",
        "outputId": "29f18bd6-6567-4bcd-a2c7-cb5a3291438f"
      },
      "source": [
        "TRUE+TRUE\r\n",
        "FALSE+TRUE "
      ],
      "execution_count": null,
      "outputs": [
        {
          "output_type": "display_data",
          "data": {
            "text/plain": [
              "[1] 2"
            ],
            "text/latex": "2",
            "text/markdown": "2",
            "text/html": [
              "2"
            ]
          },
          "metadata": {
            "tags": []
          }
        },
        {
          "output_type": "display_data",
          "data": {
            "text/plain": [
              "[1] 1"
            ],
            "text/latex": "1",
            "text/markdown": "1",
            "text/html": [
              "1"
            ]
          },
          "metadata": {
            "tags": []
          }
        }
      ]
    },
    {
      "cell_type": "markdown",
      "metadata": {
        "id": "aS2nU8EIHCxV"
      },
      "source": [
        "### VARIABLES "
      ]
    },
    {
      "cell_type": "code",
      "metadata": {
        "colab": {
          "base_uri": "https://localhost:8080/",
          "height": 67
        },
        "id": "FbcQLyMDG3kV",
        "outputId": "c73cb5a2-d630-4acf-af8d-7ae91a049a90"
      },
      "source": [
        "my_var=10\r\n",
        "print(my_var)\r\n",
        "my_var=20\r\n",
        "typeof(my_var)\r\n",
        "print(my_var)"
      ],
      "execution_count": null,
      "outputs": [
        {
          "output_type": "stream",
          "text": [
            "[1] 10\n"
          ],
          "name": "stdout"
        },
        {
          "output_type": "display_data",
          "data": {
            "text/plain": [
              "[1] \"double\""
            ],
            "text/latex": "'double'",
            "text/markdown": "'double'",
            "text/html": [
              "'double'"
            ]
          },
          "metadata": {
            "tags": []
          }
        },
        {
          "output_type": "stream",
          "text": [
            "[1] 20\n"
          ],
          "name": "stdout"
        }
      ]
    },
    {
      "cell_type": "markdown",
      "metadata": {
        "id": "aW37y245Io96"
      },
      "source": [
        "There are the following keywords as per ?reserved or help(reserved) command:\r\n",
        "\r\n",
        "if\telse\trepeat\r\n",
        "while\tfunction\tfor\r\n",
        "next\tbreak\tTRUE\r\n",
        "FALSE\tNULL\tInf\r\n",
        "NaN\tNA\tNA_integer_\r\n",
        "NA_real_\tNA_complex_\tNA_character_\r\n",
        "\r\n",
        "``` \r\n",
        "if\telse\trepeat\r\n",
        "while\tfunction\tfor\r\n",
        "next\tbreak\tTRUE\r\n",
        "FALSE\tNULL\tInf\r\n",
        "NaN\tNA\tNA_integer_\r\n",
        "NA_real_\tNA_complex_\tNA_character_\r\n",
        "```\r\n",
        "\r\n"
      ]
    },
    {
      "cell_type": "markdown",
      "metadata": {
        "id": "D-xgBmiUJAfF"
      },
      "source": [
        "data types"
      ]
    },
    {
      "cell_type": "code",
      "metadata": {
        "colab": {
          "base_uri": "https://localhost:8080/",
          "height": 50
        },
        "id": "PveM_Rl-IoPF",
        "outputId": "c7d42254-0286-4f75-aa5f-80b79ed4003b"
      },
      "source": [
        "x<-10.25\r\n",
        "x\r\n",
        "class(x)"
      ],
      "execution_count": null,
      "outputs": [
        {
          "output_type": "display_data",
          "data": {
            "text/plain": [
              "[1] 10.25"
            ],
            "text/latex": "10.25",
            "text/markdown": "10.25",
            "text/html": [
              "10.25"
            ]
          },
          "metadata": {
            "tags": []
          }
        },
        {
          "output_type": "display_data",
          "data": {
            "text/plain": [
              "[1] \"numeric\""
            ],
            "text/latex": "'numeric'",
            "text/markdown": "'numeric'",
            "text/html": [
              "'numeric'"
            ]
          },
          "metadata": {
            "tags": []
          }
        }
      ]
    },
    {
      "cell_type": "markdown",
      "metadata": {
        "id": "Vptgn-08Jgxl"
      },
      "source": [
        "Logical,Numeric,integer,complex,character,raw are the data types in R"
      ]
    },
    {
      "cell_type": "code",
      "metadata": {
        "colab": {
          "base_uri": "https://localhost:8080/",
          "height": 50
        },
        "id": "ndB1I6LhG3ny",
        "outputId": "13e7310a-c79d-42db-b1f6-2183ada6d868"
      },
      "source": [
        "is.integer(x)\r\n",
        "class(x)"
      ],
      "execution_count": null,
      "outputs": [
        {
          "output_type": "display_data",
          "data": {
            "text/plain": [
              "[1] FALSE"
            ],
            "text/latex": "FALSE",
            "text/markdown": "FALSE",
            "text/html": [
              "FALSE"
            ]
          },
          "metadata": {
            "tags": []
          }
        },
        {
          "output_type": "display_data",
          "data": {
            "text/plain": [
              "[1] \"numeric\""
            ],
            "text/latex": "'numeric'",
            "text/markdown": "'numeric'",
            "text/html": [
              "'numeric'"
            ]
          },
          "metadata": {
            "tags": []
          }
        }
      ]
    },
    {
      "cell_type": "code",
      "metadata": {
        "colab": {
          "base_uri": "https://localhost:8080/",
          "height": 50
        },
        "id": "GbTOrYdCG3rY",
        "outputId": "47e1cf72-5877-49b1-801b-e23a7c21ae54"
      },
      "source": [
        "x<-as.integer(10.25)\r\n",
        "is.integer(x)\r\n",
        "class(x)"
      ],
      "execution_count": null,
      "outputs": [
        {
          "output_type": "display_data",
          "data": {
            "text/plain": [
              "[1] TRUE"
            ],
            "text/latex": "TRUE",
            "text/markdown": "TRUE",
            "text/html": [
              "TRUE"
            ]
          },
          "metadata": {
            "tags": []
          }
        },
        {
          "output_type": "display_data",
          "data": {
            "text/plain": [
              "[1] \"integer\""
            ],
            "text/latex": "'integer'",
            "text/markdown": "'integer'",
            "text/html": [
              "'integer'"
            ]
          },
          "metadata": {
            "tags": []
          }
        }
      ]
    },
    {
      "cell_type": "code",
      "metadata": {
        "colab": {
          "base_uri": "https://localhost:8080/",
          "height": 50
        },
        "id": "D3pHxNosG3u0",
        "outputId": "e217763d-382f-401f-ab99-03f40bcee96e"
      },
      "source": [
        "y<- 3 + 4i\r\n",
        "class(y)\r\n",
        "y"
      ],
      "execution_count": null,
      "outputs": [
        {
          "output_type": "display_data",
          "data": {
            "text/plain": [
              "[1] \"complex\""
            ],
            "text/latex": "'complex'",
            "text/markdown": "'complex'",
            "text/html": [
              "'complex'"
            ]
          },
          "metadata": {
            "tags": []
          }
        },
        {
          "output_type": "display_data",
          "data": {
            "text/plain": [
              "[1] 3+4i"
            ],
            "text/latex": "3+4i",
            "text/markdown": "3+4i",
            "text/html": [
              "3+4i"
            ]
          },
          "metadata": {
            "tags": []
          }
        }
      ]
    },
    {
      "cell_type": "code",
      "metadata": {
        "colab": {
          "base_uri": "https://localhost:8080/",
          "height": 84
        },
        "id": "wrzMUMzUG3yo",
        "outputId": "fef48312-c29c-45d9-bb06-1b9fba5212a6"
      },
      "source": [
        "z<-TRUE\r\n",
        "class(z)\r\n",
        "z\r\n",
        "z<-F\r\n",
        "class(z)\r\n",
        "z"
      ],
      "execution_count": null,
      "outputs": [
        {
          "output_type": "display_data",
          "data": {
            "text/plain": [
              "[1] \"logical\""
            ],
            "text/latex": "'logical'",
            "text/markdown": "'logical'",
            "text/html": [
              "'logical'"
            ]
          },
          "metadata": {
            "tags": []
          }
        },
        {
          "output_type": "display_data",
          "data": {
            "text/plain": [
              "[1] TRUE"
            ],
            "text/latex": "TRUE",
            "text/markdown": "TRUE",
            "text/html": [
              "TRUE"
            ]
          },
          "metadata": {
            "tags": []
          }
        },
        {
          "output_type": "display_data",
          "data": {
            "text/plain": [
              "[1] \"logical\""
            ],
            "text/latex": "'logical'",
            "text/markdown": "'logical'",
            "text/html": [
              "'logical'"
            ]
          },
          "metadata": {
            "tags": []
          }
        },
        {
          "output_type": "display_data",
          "data": {
            "text/plain": [
              "[1] FALSE"
            ],
            "text/latex": "FALSE",
            "text/markdown": "FALSE",
            "text/html": [
              "FALSE"
            ]
          },
          "metadata": {
            "tags": []
          }
        }
      ]
    },
    {
      "cell_type": "markdown",
      "metadata": {
        "id": "aadn7lWmLDWj"
      },
      "source": [
        "variable assignment\r\n",
        "<-  =  assign"
      ]
    },
    {
      "cell_type": "code",
      "metadata": {
        "colab": {
          "base_uri": "https://localhost:8080/",
          "height": 67
        },
        "id": "cBvswm6WKwrz",
        "outputId": "326c3c47-945e-4df6-e456-539df22875d3"
      },
      "source": [
        "x<-10\r\n",
        "assign('y',10)\r\n",
        "x\r\n",
        "y\r\n",
        "z=100\r\n",
        "z"
      ],
      "execution_count": null,
      "outputs": [
        {
          "output_type": "display_data",
          "data": {
            "text/plain": [
              "[1] 10"
            ],
            "text/latex": "10",
            "text/markdown": "10",
            "text/html": [
              "10"
            ]
          },
          "metadata": {
            "tags": []
          }
        },
        {
          "output_type": "display_data",
          "data": {
            "text/plain": [
              "[1] 10"
            ],
            "text/latex": "10",
            "text/markdown": "10",
            "text/html": [
              "10"
            ]
          },
          "metadata": {
            "tags": []
          }
        },
        {
          "output_type": "display_data",
          "data": {
            "text/plain": [
              "[1] 100"
            ],
            "text/latex": "100",
            "text/markdown": "100",
            "text/html": [
              "100"
            ]
          },
          "metadata": {
            "tags": []
          }
        }
      ]
    },
    {
      "cell_type": "code",
      "metadata": {
        "colab": {
          "base_uri": "https://localhost:8080/",
          "height": 33
        },
        "id": "j33IzQsKKwxF",
        "outputId": "98f5ec5b-7a27-48d3-eb38-c9423d6b3d18"
      },
      "source": [
        "a<-b<-c<-66\r\n",
        "a"
      ],
      "execution_count": null,
      "outputs": [
        {
          "output_type": "display_data",
          "data": {
            "text/plain": [
              "[1] 66"
            ],
            "text/latex": "66",
            "text/markdown": "66",
            "text/html": [
              "66"
            ]
          },
          "metadata": {
            "tags": []
          }
        }
      ]
    },
    {
      "cell_type": "code",
      "metadata": {
        "colab": {
          "base_uri": "https://localhost:8080/",
          "height": 84
        },
        "id": "44N79a_fKw1v",
        "outputId": "73f06e4b-7ab6-48f0-b43d-6b72fb904997"
      },
      "source": [
        "l<-letters\r\n",
        "L<-LETTERS\r\n",
        "print(l)\r\n",
        "L"
      ],
      "execution_count": null,
      "outputs": [
        {
          "output_type": "stream",
          "text": [
            " [1] \"a\" \"b\" \"c\" \"d\" \"e\" \"f\" \"g\" \"h\" \"i\" \"j\" \"k\" \"l\" \"m\" \"n\" \"o\" \"p\" \"q\" \"r\" \"s\"\n",
            "[20] \"t\" \"u\" \"v\" \"w\" \"x\" \"y\" \"z\"\n"
          ],
          "name": "stdout"
        },
        {
          "output_type": "display_data",
          "data": {
            "text/plain": [
              " [1] \"A\" \"B\" \"C\" \"D\" \"E\" \"F\" \"G\" \"H\" \"I\" \"J\" \"K\" \"L\" \"M\" \"N\" \"O\" \"P\" \"Q\" \"R\" \"S\"\n",
              "[20] \"T\" \"U\" \"V\" \"W\" \"X\" \"Y\" \"Z\""
            ],
            "text/latex": "\\begin{enumerate*}\n\\item 'A'\n\\item 'B'\n\\item 'C'\n\\item 'D'\n\\item 'E'\n\\item 'F'\n\\item 'G'\n\\item 'H'\n\\item 'I'\n\\item 'J'\n\\item 'K'\n\\item 'L'\n\\item 'M'\n\\item 'N'\n\\item 'O'\n\\item 'P'\n\\item 'Q'\n\\item 'R'\n\\item 'S'\n\\item 'T'\n\\item 'U'\n\\item 'V'\n\\item 'W'\n\\item 'X'\n\\item 'Y'\n\\item 'Z'\n\\end{enumerate*}\n",
            "text/markdown": "1. 'A'\n2. 'B'\n3. 'C'\n4. 'D'\n5. 'E'\n6. 'F'\n7. 'G'\n8. 'H'\n9. 'I'\n10. 'J'\n11. 'K'\n12. 'L'\n13. 'M'\n14. 'N'\n15. 'O'\n16. 'P'\n17. 'Q'\n18. 'R'\n19. 'S'\n20. 'T'\n21. 'U'\n22. 'V'\n23. 'W'\n24. 'X'\n25. 'Y'\n26. 'Z'\n\n\n",
            "text/html": [
              "<style>\n",
              ".list-inline {list-style: none; margin:0; padding: 0}\n",
              ".list-inline>li {display: inline-block}\n",
              ".list-inline>li:not(:last-child)::after {content: \"\\00b7\"; padding: 0 .5ex}\n",
              "</style>\n",
              "<ol class=list-inline><li>'A'</li><li>'B'</li><li>'C'</li><li>'D'</li><li>'E'</li><li>'F'</li><li>'G'</li><li>'H'</li><li>'I'</li><li>'J'</li><li>'K'</li><li>'L'</li><li>'M'</li><li>'N'</li><li>'O'</li><li>'P'</li><li>'Q'</li><li>'R'</li><li>'S'</li><li>'T'</li><li>'U'</li><li>'V'</li><li>'W'</li><li>'X'</li><li>'Y'</li><li>'Z'</li></ol>\n"
            ]
          },
          "metadata": {
            "tags": []
          }
        }
      ]
    },
    {
      "cell_type": "markdown",
      "metadata": {
        "id": "LL2htvDNLqak"
      },
      "source": [
        "relational operators\r\n",
        "\r\n",
        "` > < == <= >= !=`\r\n",
        "\r\n",
        "logical \r\n",
        "\r\n",
        "& &&\r\n",
        "\r\n",
        "|  ||\r\n",
        "\r\n",
        "! not\r\n"
      ]
    },
    {
      "cell_type": "code",
      "metadata": {
        "colab": {
          "base_uri": "https://localhost:8080/",
          "height": 33
        },
        "id": "KGLUY6A_Kw5Q",
        "outputId": "56555f80-43b4-4839-ab2a-502e6e9c1334"
      },
      "source": [
        "TRUE | FALSE"
      ],
      "execution_count": null,
      "outputs": [
        {
          "output_type": "display_data",
          "data": {
            "text/plain": [
              "[1] TRUE"
            ],
            "text/latex": "TRUE",
            "text/markdown": "TRUE",
            "text/html": [
              "TRUE"
            ]
          },
          "metadata": {
            "tags": []
          }
        }
      ]
    },
    {
      "cell_type": "code",
      "metadata": {
        "colab": {
          "base_uri": "https://localhost:8080/",
          "height": 67
        },
        "id": "UscaRJTUMF_O",
        "outputId": "411718c5-f64b-4d11-bcce-99ff9bf8eb9a"
      },
      "source": [
        "10 & 0 #0 is treated as false\r\n",
        "# 1 treated as true \r\n",
        "!10\r\n",
        "!0"
      ],
      "execution_count": null,
      "outputs": [
        {
          "output_type": "display_data",
          "data": {
            "text/plain": [
              "[1] FALSE"
            ],
            "text/latex": "FALSE",
            "text/markdown": "FALSE",
            "text/html": [
              "FALSE"
            ]
          },
          "metadata": {
            "tags": []
          }
        },
        {
          "output_type": "display_data",
          "data": {
            "text/plain": [
              "[1] FALSE"
            ],
            "text/latex": "FALSE",
            "text/markdown": "FALSE",
            "text/html": [
              "FALSE"
            ]
          },
          "metadata": {
            "tags": []
          }
        },
        {
          "output_type": "display_data",
          "data": {
            "text/plain": [
              "[1] TRUE"
            ],
            "text/latex": "TRUE",
            "text/markdown": "TRUE",
            "text/html": [
              "TRUE"
            ]
          },
          "metadata": {
            "tags": []
          }
        }
      ]
    },
    {
      "cell_type": "markdown",
      "metadata": {
        "id": "9oM2n45gMbpw"
      },
      "source": [
        "### sequences"
      ]
    },
    {
      "cell_type": "code",
      "metadata": {
        "colab": {
          "base_uri": "https://localhost:8080/",
          "height": 33
        },
        "id": "5_EBC2-aMGCb",
        "outputId": "26877736-3b0e-478f-d955-dc63a8f9d224"
      },
      "source": [
        "x<- 1:10 \r\n",
        "x"
      ],
      "execution_count": null,
      "outputs": [
        {
          "output_type": "display_data",
          "data": {
            "text/plain": [
              " [1]  1  2  3  4  5  6  7  8  9 10"
            ],
            "text/latex": "\\begin{enumerate*}\n\\item 1\n\\item 2\n\\item 3\n\\item 4\n\\item 5\n\\item 6\n\\item 7\n\\item 8\n\\item 9\n\\item 10\n\\end{enumerate*}\n",
            "text/markdown": "1. 1\n2. 2\n3. 3\n4. 4\n5. 5\n6. 6\n7. 7\n8. 8\n9. 9\n10. 10\n\n\n",
            "text/html": [
              "<style>\n",
              ".list-inline {list-style: none; margin:0; padding: 0}\n",
              ".list-inline>li {display: inline-block}\n",
              ".list-inline>li:not(:last-child)::after {content: \"\\00b7\"; padding: 0 .5ex}\n",
              "</style>\n",
              "<ol class=list-inline><li>1</li><li>2</li><li>3</li><li>4</li><li>5</li><li>6</li><li>7</li><li>8</li><li>9</li><li>10</li></ol>\n"
            ]
          },
          "metadata": {
            "tags": []
          }
        }
      ]
    },
    {
      "cell_type": "code",
      "metadata": {
        "colab": {
          "base_uri": "https://localhost:8080/",
          "height": 33
        },
        "id": "WW6c7WYmMgcf",
        "outputId": "2fd0ee5a-0d6d-4825-e05e-164f45ef0c1e"
      },
      "source": [
        "x<- 1:10 -1\r\n",
        "x"
      ],
      "execution_count": null,
      "outputs": [
        {
          "output_type": "display_data",
          "data": {
            "text/plain": [
              " [1] 0 1 2 3 4 5 6 7 8 9"
            ],
            "text/latex": "\\begin{enumerate*}\n\\item 0\n\\item 1\n\\item 2\n\\item 3\n\\item 4\n\\item 5\n\\item 6\n\\item 7\n\\item 8\n\\item 9\n\\end{enumerate*}\n",
            "text/markdown": "1. 0\n2. 1\n3. 2\n4. 3\n5. 4\n6. 5\n7. 6\n8. 7\n9. 8\n10. 9\n\n\n",
            "text/html": [
              "<style>\n",
              ".list-inline {list-style: none; margin:0; padding: 0}\n",
              ".list-inline>li {display: inline-block}\n",
              ".list-inline>li:not(:last-child)::after {content: \"\\00b7\"; padding: 0 .5ex}\n",
              "</style>\n",
              "<ol class=list-inline><li>0</li><li>1</li><li>2</li><li>3</li><li>4</li><li>5</li><li>6</li><li>7</li><li>8</li><li>9</li></ol>\n"
            ]
          },
          "metadata": {
            "tags": []
          }
        }
      ]
    },
    {
      "cell_type": "code",
      "metadata": {
        "colab": {
          "base_uri": "https://localhost:8080/",
          "height": 67
        },
        "id": "utSYbiAuMghf",
        "outputId": "31fa9004-d3ff-493e-f99b-4db39cc4df1c"
      },
      "source": [
        "x<-10\r\n",
        "1:x\r\n",
        "1:x-1 # first 1:x then subtract 1 from vector x\r\n",
        "1:(x-1)"
      ],
      "execution_count": null,
      "outputs": [
        {
          "output_type": "display_data",
          "data": {
            "text/plain": [
              " [1]  1  2  3  4  5  6  7  8  9 10"
            ],
            "text/latex": "\\begin{enumerate*}\n\\item 1\n\\item 2\n\\item 3\n\\item 4\n\\item 5\n\\item 6\n\\item 7\n\\item 8\n\\item 9\n\\item 10\n\\end{enumerate*}\n",
            "text/markdown": "1. 1\n2. 2\n3. 3\n4. 4\n5. 5\n6. 6\n7. 7\n8. 8\n9. 9\n10. 10\n\n\n",
            "text/html": [
              "<style>\n",
              ".list-inline {list-style: none; margin:0; padding: 0}\n",
              ".list-inline>li {display: inline-block}\n",
              ".list-inline>li:not(:last-child)::after {content: \"\\00b7\"; padding: 0 .5ex}\n",
              "</style>\n",
              "<ol class=list-inline><li>1</li><li>2</li><li>3</li><li>4</li><li>5</li><li>6</li><li>7</li><li>8</li><li>9</li><li>10</li></ol>\n"
            ]
          },
          "metadata": {
            "tags": []
          }
        },
        {
          "output_type": "display_data",
          "data": {
            "text/plain": [
              " [1] 0 1 2 3 4 5 6 7 8 9"
            ],
            "text/latex": "\\begin{enumerate*}\n\\item 0\n\\item 1\n\\item 2\n\\item 3\n\\item 4\n\\item 5\n\\item 6\n\\item 7\n\\item 8\n\\item 9\n\\end{enumerate*}\n",
            "text/markdown": "1. 0\n2. 1\n3. 2\n4. 3\n5. 4\n6. 5\n7. 6\n8. 7\n9. 8\n10. 9\n\n\n",
            "text/html": [
              "<style>\n",
              ".list-inline {list-style: none; margin:0; padding: 0}\n",
              ".list-inline>li {display: inline-block}\n",
              ".list-inline>li:not(:last-child)::after {content: \"\\00b7\"; padding: 0 .5ex}\n",
              "</style>\n",
              "<ol class=list-inline><li>0</li><li>1</li><li>2</li><li>3</li><li>4</li><li>5</li><li>6</li><li>7</li><li>8</li><li>9</li></ol>\n"
            ]
          },
          "metadata": {
            "tags": []
          }
        },
        {
          "output_type": "display_data",
          "data": {
            "text/plain": [
              "[1] 1 2 3 4 5 6 7 8 9"
            ],
            "text/latex": "\\begin{enumerate*}\n\\item 1\n\\item 2\n\\item 3\n\\item 4\n\\item 5\n\\item 6\n\\item 7\n\\item 8\n\\item 9\n\\end{enumerate*}\n",
            "text/markdown": "1. 1\n2. 2\n3. 3\n4. 4\n5. 5\n6. 6\n7. 7\n8. 8\n9. 9\n\n\n",
            "text/html": [
              "<style>\n",
              ".list-inline {list-style: none; margin:0; padding: 0}\n",
              ".list-inline>li {display: inline-block}\n",
              ".list-inline>li:not(:last-child)::after {content: \"\\00b7\"; padding: 0 .5ex}\n",
              "</style>\n",
              "<ol class=list-inline><li>1</li><li>2</li><li>3</li><li>4</li><li>5</li><li>6</li><li>7</li><li>8</li><li>9</li></ol>\n"
            ]
          },
          "metadata": {
            "tags": []
          }
        }
      ]
    },
    {
      "cell_type": "code",
      "metadata": {
        "colab": {
          "base_uri": "https://localhost:8080/",
          "height": 67
        },
        "id": "czX0Irl3M4EL",
        "outputId": "237ee321-9877-4dae-bce4-0fac3f8308bc"
      },
      "source": [
        "y<-seq(6)\r\n",
        "y\r\n",
        "y<-seq(1,14)\r\n",
        "y\r\n",
        "yrev<-seq(from=10,to=1)\r\n",
        "yrev"
      ],
      "execution_count": null,
      "outputs": [
        {
          "output_type": "display_data",
          "data": {
            "text/plain": [
              "[1] 1 2 3 4 5 6"
            ],
            "text/latex": "\\begin{enumerate*}\n\\item 1\n\\item 2\n\\item 3\n\\item 4\n\\item 5\n\\item 6\n\\end{enumerate*}\n",
            "text/markdown": "1. 1\n2. 2\n3. 3\n4. 4\n5. 5\n6. 6\n\n\n",
            "text/html": [
              "<style>\n",
              ".list-inline {list-style: none; margin:0; padding: 0}\n",
              ".list-inline>li {display: inline-block}\n",
              ".list-inline>li:not(:last-child)::after {content: \"\\00b7\"; padding: 0 .5ex}\n",
              "</style>\n",
              "<ol class=list-inline><li>1</li><li>2</li><li>3</li><li>4</li><li>5</li><li>6</li></ol>\n"
            ]
          },
          "metadata": {
            "tags": []
          }
        },
        {
          "output_type": "display_data",
          "data": {
            "text/plain": [
              " [1]  1  2  3  4  5  6  7  8  9 10 11 12 13 14"
            ],
            "text/latex": "\\begin{enumerate*}\n\\item 1\n\\item 2\n\\item 3\n\\item 4\n\\item 5\n\\item 6\n\\item 7\n\\item 8\n\\item 9\n\\item 10\n\\item 11\n\\item 12\n\\item 13\n\\item 14\n\\end{enumerate*}\n",
            "text/markdown": "1. 1\n2. 2\n3. 3\n4. 4\n5. 5\n6. 6\n7. 7\n8. 8\n9. 9\n10. 10\n11. 11\n12. 12\n13. 13\n14. 14\n\n\n",
            "text/html": [
              "<style>\n",
              ".list-inline {list-style: none; margin:0; padding: 0}\n",
              ".list-inline>li {display: inline-block}\n",
              ".list-inline>li:not(:last-child)::after {content: \"\\00b7\"; padding: 0 .5ex}\n",
              "</style>\n",
              "<ol class=list-inline><li>1</li><li>2</li><li>3</li><li>4</li><li>5</li><li>6</li><li>7</li><li>8</li><li>9</li><li>10</li><li>11</li><li>12</li><li>13</li><li>14</li></ol>\n"
            ]
          },
          "metadata": {
            "tags": []
          }
        },
        {
          "output_type": "display_data",
          "data": {
            "text/plain": [
              " [1] 10  9  8  7  6  5  4  3  2  1"
            ],
            "text/latex": "\\begin{enumerate*}\n\\item 10\n\\item 9\n\\item 8\n\\item 7\n\\item 6\n\\item 5\n\\item 4\n\\item 3\n\\item 2\n\\item 1\n\\end{enumerate*}\n",
            "text/markdown": "1. 10\n2. 9\n3. 8\n4. 7\n5. 6\n6. 5\n7. 4\n8. 3\n9. 2\n10. 1\n\n\n",
            "text/html": [
              "<style>\n",
              ".list-inline {list-style: none; margin:0; padding: 0}\n",
              ".list-inline>li {display: inline-block}\n",
              ".list-inline>li:not(:last-child)::after {content: \"\\00b7\"; padding: 0 .5ex}\n",
              "</style>\n",
              "<ol class=list-inline><li>10</li><li>9</li><li>8</li><li>7</li><li>6</li><li>5</li><li>4</li><li>3</li><li>2</li><li>1</li></ol>\n"
            ]
          },
          "metadata": {
            "tags": []
          }
        }
      ]
    },
    {
      "cell_type": "code",
      "metadata": {
        "colab": {
          "base_uri": "https://localhost:8080/"
        },
        "id": "7I4bByPLM4Hg",
        "outputId": "b6dc8b34-22b7-49cd-dff1-eddb0548346a"
      },
      "source": [
        "z<-seq(1,10,by=2)\r\n",
        "print(z)\r\n",
        "z<-seq(1,10,length=4)\r\n",
        "print(z)"
      ],
      "execution_count": null,
      "outputs": [
        {
          "output_type": "stream",
          "text": [
            "[1] 1 3 5 7 9\n",
            "[1]  1  4  7 10\n"
          ],
          "name": "stdout"
        }
      ]
    },
    {
      "cell_type": "code",
      "metadata": {
        "colab": {
          "base_uri": "https://localhost:8080/"
        },
        "id": "lDomNCWuNhcq",
        "outputId": "698c1ae3-2ab2-45ef-e18d-6c62597e0eed"
      },
      "source": [
        "s<-1:17\r\n",
        "print(s)\r\n",
        "s<-seq(1,10,2)#for odd\r\n",
        "print(s)\r\n",
        "s<-seq(0,10,2)#for even numbers\r\n",
        "print(s)\r\n",
        "s<-seq(10,0,-2)# for reverse\r\n",
        "print(s)"
      ],
      "execution_count": null,
      "outputs": [
        {
          "output_type": "stream",
          "text": [
            " [1]  1  2  3  4  5  6  7  8  9 10 11 12 13 14 15 16 17\n",
            "[1] 1 3 5 7 9\n",
            "[1]  0  2  4  6  8 10\n",
            "[1] 10  8  6  4  2  0\n"
          ],
          "name": "stdout"
        }
      ]
    },
    {
      "cell_type": "code",
      "metadata": {
        "colab": {
          "base_uri": "https://localhost:8080/"
        },
        "id": "I8F4yYDrOZsK",
        "outputId": "3643d278-18d7-429e-ac46-b8ebc5520b38"
      },
      "source": [
        "#replication\r\n",
        "x<-rep(1,times=5)\r\n",
        "print(x)\r\n",
        "z<-rep('a',times=3)\r\n",
        "print(z)"
      ],
      "execution_count": null,
      "outputs": [
        {
          "output_type": "stream",
          "text": [
            "[1] 1 1 1 1 1\n",
            "[1] \"a\" \"a\" \"a\"\n"
          ],
          "name": "stdout"
        }
      ]
    },
    {
      "cell_type": "code",
      "metadata": {
        "colab": {
          "base_uri": "https://localhost:8080/"
        },
        "id": "uEcJ-JiFOZvJ",
        "outputId": "87a710bb-0b9f-4ff3-e012-6e7c3d37146e"
      },
      "source": [
        "a<-1:3\r\n",
        "print(a)\r\n",
        "b<-rep(a,each=5)\r\n",
        "print(b)"
      ],
      "execution_count": null,
      "outputs": [
        {
          "output_type": "stream",
          "text": [
            "[1] 1 2 3\n",
            " [1] 1 1 1 1 1 2 2 2 2 2 3 3 3 3 3\n"
          ],
          "name": "stdout"
        }
      ]
    },
    {
      "cell_type": "markdown",
      "metadata": {
        "id": "zcpz-EZ2VkHY"
      },
      "source": [
        "### if else\r\n",
        "\r\n",
        "if (condition){\r\n",
        "\r\n",
        "}\r\n"
      ]
    },
    {
      "cell_type": "code",
      "metadata": {
        "colab": {
          "base_uri": "https://localhost:8080/"
        },
        "id": "H-iw47gYU1LS",
        "outputId": "7390f48c-853a-49d9-b27b-5dab77987bad"
      },
      "source": [
        "x<-2\r\n",
        "if (x > 0){\r\n",
        "  print(\"positive\")\r\n",
        "}else if(x ==0 ){\r\n",
        "print(\"it is zero\")\r\n",
        "} else {\r\n",
        "  print(\"negative\")\r\n",
        "}"
      ],
      "execution_count": null,
      "outputs": [
        {
          "output_type": "stream",
          "text": [
            "[1] \"positive\"\n"
          ],
          "name": "stdout"
        }
      ]
    },
    {
      "cell_type": "code",
      "metadata": {
        "colab": {
          "base_uri": "https://localhost:8080/",
          "height": 33
        },
        "id": "E0jxC-4NU1PC",
        "outputId": "1fb3601a-7071-44a3-9000-bf2dbbef2834"
      },
      "source": [
        "x<-6\r\n",
        "ifelse(x%%2 ==0,'even number','odd number')"
      ],
      "execution_count": null,
      "outputs": [
        {
          "output_type": "display_data",
          "data": {
            "text/plain": [
              "[1] \"even number\""
            ],
            "text/latex": "'even number'",
            "text/markdown": "'even number'",
            "text/html": [
              "'even number'"
            ]
          },
          "metadata": {
            "tags": []
          }
        }
      ]
    },
    {
      "cell_type": "markdown",
      "metadata": {
        "id": "sU-emcMgZAX4"
      },
      "source": [
        "### loops"
      ]
    },
    {
      "cell_type": "code",
      "metadata": {
        "colab": {
          "base_uri": "https://localhost:8080/"
        },
        "id": "IdcQnyGBOZzH",
        "outputId": "86baa63e-ffc2-4c85-9060-46e48ba8b8f0"
      },
      "source": [
        "for(i in 1:5){\r\n",
        "  print(i)\r\n",
        "}"
      ],
      "execution_count": null,
      "outputs": [
        {
          "output_type": "stream",
          "text": [
            "[1] 1\n",
            "[1] 2\n",
            "[1] 3\n",
            "[1] 4\n",
            "[1] 5\n"
          ],
          "name": "stdout"
        }
      ]
    },
    {
      "cell_type": "code",
      "metadata": {
        "colab": {
          "base_uri": "https://localhost:8080/"
        },
        "id": "t38YDNn5ZHcC",
        "outputId": "0d5beb77-1c34-4dee-a8e1-b94a94d8a8f0"
      },
      "source": [
        "for(i in 1:5)  print(i)\r\n"
      ],
      "execution_count": null,
      "outputs": [
        {
          "output_type": "stream",
          "text": [
            "[1] 1\n",
            "[1] 2\n",
            "[1] 3\n",
            "[1] 4\n",
            "[1] 5\n"
          ],
          "name": "stdout"
        }
      ]
    },
    {
      "cell_type": "code",
      "metadata": {
        "colab": {
          "base_uri": "https://localhost:8080/"
        },
        "id": "oRM5jm10ZHgo",
        "outputId": "22b5e405-1f41-4070-d91b-deb3fbd1be14"
      },
      "source": [
        "x<-letters\r\n",
        "y<-x[1:5]\r\n",
        "#for (i in x) print(i)\r\n",
        "for (i in y) print(i)"
      ],
      "execution_count": null,
      "outputs": [
        {
          "output_type": "stream",
          "text": [
            "[1] \"a\"\n",
            "[1] \"b\"\n",
            "[1] \"c\"\n",
            "[1] \"d\"\n",
            "[1] \"e\"\n"
          ],
          "name": "stdout"
        }
      ]
    },
    {
      "cell_type": "code",
      "metadata": {
        "colab": {
          "base_uri": "https://localhost:8080/"
        },
        "id": "g1K8MQ2JZHkQ",
        "outputId": "0cc8279f-5ef9-4b8b-afd8-4f8570e647ec"
      },
      "source": [
        "i<-1\r\n",
        "while(i<=5){\r\n",
        "  print(i)\r\n",
        "  i<-i+1\r\n",
        "}"
      ],
      "execution_count": null,
      "outputs": [
        {
          "output_type": "stream",
          "text": [
            "[1] 1\n",
            "[1] 2\n",
            "[1] 3\n",
            "[1] 4\n",
            "[1] 5\n"
          ],
          "name": "stdout"
        }
      ]
    },
    {
      "cell_type": "markdown",
      "metadata": {
        "id": "mx5gMSeVQqIm"
      },
      "source": [
        "repeat loop"
      ]
    },
    {
      "cell_type": "code",
      "metadata": {
        "id": "UgHCpckRZHo_",
        "colab": {
          "base_uri": "https://localhost:8080/"
        },
        "outputId": "cfbd47ac-fb84-4c3b-8abd-fde673447b7d"
      },
      "source": [
        "i<-1\r\n",
        "repeat{\r\n",
        "  print(i)\r\n",
        "  if(i>5)\r\n",
        "   break\r\n",
        "  i<-i+1\r\n",
        "}"
      ],
      "execution_count": null,
      "outputs": [
        {
          "output_type": "stream",
          "text": [
            "[1] 1\n",
            "[1] 2\n",
            "[1] 3\n",
            "[1] 4\n",
            "[1] 5\n",
            "[1] 6\n"
          ],
          "name": "stdout"
        }
      ]
    },
    {
      "cell_type": "code",
      "metadata": {
        "colab": {
          "base_uri": "https://localhost:8080/"
        },
        "id": "keuRbWOqUS3V",
        "outputId": "28645758-d65e-4169-9db9-a5971696f054"
      },
      "source": [
        "for(i in 1:10){\r\n",
        "  if(i%/% 2==0)\r\n",
        "  next\r\n",
        "  print(i)\r\n",
        "}"
      ],
      "execution_count": null,
      "outputs": [
        {
          "output_type": "stream",
          "text": [
            "[1] 2\n",
            "[1] 3\n",
            "[1] 4\n",
            "[1] 5\n",
            "[1] 6\n",
            "[1] 7\n",
            "[1] 8\n",
            "[1] 9\n",
            "[1] 10\n"
          ],
          "name": "stdout"
        }
      ]
    },
    {
      "cell_type": "markdown",
      "metadata": {
        "id": "TmUkKs2KUqjQ"
      },
      "source": [
        "### Functions"
      ]
    },
    {
      "cell_type": "code",
      "metadata": {
        "id": "523LOKcKUpcD"
      },
      "source": [
        "sum=function(a,b){\r\n",
        "  c=a+b\r\n",
        "  return(c)\r\n",
        "}"
      ],
      "execution_count": null,
      "outputs": []
    },
    {
      "cell_type": "code",
      "metadata": {
        "colab": {
          "base_uri": "https://localhost:8080/",
          "height": 33
        },
        "id": "laYZYGguUpfx",
        "outputId": "f7bf1e6c-f693-42b9-a468-1e8222db4f3e"
      },
      "source": [
        "sum(6,-1)"
      ],
      "execution_count": null,
      "outputs": [
        {
          "output_type": "display_data",
          "data": {
            "text/plain": [
              "[1] 5"
            ],
            "text/latex": "5",
            "text/markdown": "5",
            "text/html": [
              "5"
            ]
          },
          "metadata": {
            "tags": []
          }
        }
      ]
    },
    {
      "cell_type": "code",
      "metadata": {
        "id": "r1ZdjLmlUpjC"
      },
      "source": [
        "myeval=function(x,y){\r\n",
        "  w=x+y\r\n",
        "  z=x+y\r\n",
        "  result=list('sum'=w,'mul'=z)\r\n",
        "  return(result)\r\n",
        "}"
      ],
      "execution_count": null,
      "outputs": []
    },
    {
      "cell_type": "code",
      "metadata": {
        "colab": {
          "base_uri": "https://localhost:8080/",
          "height": 112
        },
        "id": "E1_QklQ0U6o-",
        "outputId": "2452605b-ca2c-4aec-9bb9-ced0a8566ba9"
      },
      "source": [
        "myeval(10,20)"
      ],
      "execution_count": null,
      "outputs": [
        {
          "output_type": "display_data",
          "data": {
            "text/plain": [
              "$sum\n",
              "[1] 30\n",
              "\n",
              "$mul\n",
              "[1] 30\n"
            ],
            "text/latex": "\\begin{description}\n\\item[\\$sum] 30\n\\item[\\$mul] 30\n\\end{description}\n",
            "text/markdown": "$sum\n:   30\n$mul\n:   30\n\n\n",
            "text/html": [
              "<dl>\n",
              "\t<dt>$sum</dt>\n",
              "\t\t<dd>30</dd>\n",
              "\t<dt>$mul</dt>\n",
              "\t\t<dd>30</dd>\n",
              "</dl>\n"
            ]
          },
          "metadata": {
            "tags": []
          }
        }
      ]
    },
    {
      "cell_type": "markdown",
      "metadata": {
        "id": "wMi36mRWbVoX"
      },
      "source": [
        "### lamda function in r\r\n"
      ]
    },
    {
      "cell_type": "code",
      "metadata": {
        "id": "eJa3j4E7U6sm"
      },
      "source": [
        "mysum=function(x,y) x+y"
      ],
      "execution_count": null,
      "outputs": []
    },
    {
      "cell_type": "code",
      "metadata": {
        "colab": {
          "base_uri": "https://localhost:8080/",
          "height": 33
        },
        "id": "zx1w6172UpnH",
        "outputId": "c73e9f46-7135-4d1a-ca39-0fcaf26bf43a"
      },
      "source": [
        "mysum(1,2)"
      ],
      "execution_count": null,
      "outputs": [
        {
          "output_type": "display_data",
          "data": {
            "text/plain": [
              "[1] 3"
            ],
            "text/latex": "3",
            "text/markdown": "3",
            "text/html": [
              "3"
            ]
          },
          "metadata": {
            "tags": []
          }
        }
      ]
    },
    {
      "cell_type": "markdown",
      "metadata": {
        "id": "4VsfoIjlUmvR"
      },
      "source": [
        "# vectors"
      ]
    },
    {
      "cell_type": "markdown",
      "metadata": {
        "id": "h_DlSaiQbrIM"
      },
      "source": [
        "vector has elements of same datatype\r\n",
        "\r\n",
        "c funtion for concatination ,creation of vector"
      ]
    },
    {
      "cell_type": "code",
      "metadata": {
        "id": "Rdj9qhz6chzi"
      },
      "source": [
        ""
      ],
      "execution_count": null,
      "outputs": []
    },
    {
      "cell_type": "code",
      "metadata": {
        "colab": {
          "base_uri": "https://localhost:8080/",
          "height": 33
        },
        "id": "5KMf8S4YUS7U",
        "outputId": "88d759f0-7898-4dfb-a9fe-71c403943ab2"
      },
      "source": [
        "ve<-c(10,20,30)\r\n",
        "ve"
      ],
      "execution_count": null,
      "outputs": [
        {
          "output_type": "display_data",
          "data": {
            "text/plain": [
              "[1] 10 20 30"
            ],
            "text/latex": "\\begin{enumerate*}\n\\item 10\n\\item 20\n\\item 30\n\\end{enumerate*}\n",
            "text/markdown": "1. 10\n2. 20\n3. 30\n\n\n",
            "text/html": [
              "<style>\n",
              ".list-inline {list-style: none; margin:0; padding: 0}\n",
              ".list-inline>li {display: inline-block}\n",
              ".list-inline>li:not(:last-child)::after {content: \"\\00b7\"; padding: 0 .5ex}\n",
              "</style>\n",
              "<ol class=list-inline><li>10</li><li>20</li><li>30</li></ol>\n"
            ]
          },
          "metadata": {
            "tags": []
          }
        }
      ]
    },
    {
      "cell_type": "code",
      "metadata": {
        "colab": {
          "base_uri": "https://localhost:8080/",
          "height": 33
        },
        "id": "YE6AsUT4cX88",
        "outputId": "4fecc19d-efd5-42bf-b971-48ce9dfa699c"
      },
      "source": [
        "assign('y',c(50,40,60))\r\n",
        "print(y)"
      ],
      "execution_count": null,
      "outputs": [
        {
          "output_type": "display_data",
          "data": {
            "text/plain": [
              "[1] 50 40 60"
            ],
            "text/latex": "\\begin{enumerate*}\n\\item 50\n\\item 40\n\\item 60\n\\end{enumerate*}\n",
            "text/markdown": "1. 50\n2. 40\n3. 60\n\n\n",
            "text/html": [
              "<style>\n",
              ".list-inline {list-style: none; margin:0; padding: 0}\n",
              ".list-inline>li {display: inline-block}\n",
              ".list-inline>li:not(:last-child)::after {content: \"\\00b7\"; padding: 0 .5ex}\n",
              "</style>\n",
              "<ol class=list-inline><li>50</li><li>40</li><li>60</li></ol>\n"
            ]
          },
          "metadata": {
            "tags": []
          }
        }
      ]
    },
    {
      "cell_type": "code",
      "metadata": {
        "colab": {
          "base_uri": "https://localhost:8080/"
        },
        "id": "_reWFlIhcYCZ",
        "outputId": "67d99930-6280-4aa1-ce06-6b5f56e64126"
      },
      "source": [
        "lo<-c(T,F,T)\r\n",
        "print(lo)"
      ],
      "execution_count": null,
      "outputs": [
        {
          "output_type": "stream",
          "text": [
            "[1]  TRUE FALSE  TRUE\n"
          ],
          "name": "stdout"
        }
      ]
    },
    {
      "cell_type": "code",
      "metadata": {
        "colab": {
          "base_uri": "https://localhost:8080/",
          "height": 67
        },
        "id": "Zcb7RN9ncybI",
        "outputId": "656a0781-c7fe-4403-e08f-c7322f5a0b77"
      },
      "source": [
        "e<-c(10,20,'a',3.5)\r\n",
        "print(e)#because of vector coercion \r\n",
        "typeof(e)\r\n",
        "length(e)"
      ],
      "execution_count": null,
      "outputs": [
        {
          "output_type": "stream",
          "text": [
            "[1] \"10\"  \"20\"  \"a\"   \"3.5\"\n"
          ],
          "name": "stdout"
        },
        {
          "output_type": "display_data",
          "data": {
            "text/plain": [
              "[1] \"character\""
            ],
            "text/latex": "'character'",
            "text/markdown": "'character'",
            "text/html": [
              "'character'"
            ]
          },
          "metadata": {
            "tags": []
          }
        },
        {
          "output_type": "display_data",
          "data": {
            "text/plain": [
              "[1] 4"
            ],
            "text/latex": "4",
            "text/markdown": "4",
            "text/html": [
              "4"
            ]
          },
          "metadata": {
            "tags": []
          }
        }
      ]
    },
    {
      "cell_type": "markdown",
      "metadata": {
        "id": "tnqUDl38dJ9C"
      },
      "source": [
        "using 1:10 ,seq(1,10) we can create a vector\r\n",
        "\r\n",
        "rep (10,3) create a vector 10 10 10 "
      ]
    },
    {
      "cell_type": "code",
      "metadata": {
        "colab": {
          "base_uri": "https://localhost:8080/"
        },
        "id": "Yu2KrOLrcyeS",
        "outputId": "6f244d52-8f51-4a83-9bab-d2da5e5a68f2"
      },
      "source": [
        "em<-vector()\r\n",
        "print(em)"
      ],
      "execution_count": null,
      "outputs": [
        {
          "output_type": "stream",
          "text": [
            "logical(0)\n"
          ],
          "name": "stdout"
        }
      ]
    },
    {
      "cell_type": "code",
      "metadata": {
        "colab": {
          "base_uri": "https://localhost:8080/",
          "height": 33
        },
        "id": "ggtpqTqccyiD",
        "outputId": "4d696855-5bf9-486f-c310-81a0509c1c92"
      },
      "source": [
        "z<-vector('numeric',length=4)\r\n",
        "z"
      ],
      "execution_count": null,
      "outputs": [
        {
          "output_type": "display_data",
          "data": {
            "text/plain": [
              "[1] 0 0 0 0"
            ],
            "text/latex": "\\begin{enumerate*}\n\\item 0\n\\item 0\n\\item 0\n\\item 0\n\\end{enumerate*}\n",
            "text/markdown": "1. 0\n2. 0\n3. 0\n4. 0\n\n\n",
            "text/html": [
              "<style>\n",
              ".list-inline {list-style: none; margin:0; padding: 0}\n",
              ".list-inline>li {display: inline-block}\n",
              ".list-inline>li:not(:last-child)::after {content: \"\\00b7\"; padding: 0 .5ex}\n",
              "</style>\n",
              "<ol class=list-inline><li>0</li><li>0</li><li>0</li><li>0</li></ol>\n"
            ]
          },
          "metadata": {
            "tags": []
          }
        }
      ]
    },
    {
      "cell_type": "markdown",
      "metadata": {
        "id": "7Lwxa5wvd3yT"
      },
      "source": [
        "### indexing"
      ]
    },
    {
      "cell_type": "code",
      "metadata": {
        "colab": {
          "base_uri": "https://localhost:8080/",
          "height": 84
        },
        "id": "cqNzY2zYczKj",
        "outputId": "394337d4-2c30-4201-b0be-44642f63e4cb"
      },
      "source": [
        "x<-c(67,55,105,10,40,35,40,80)\r\n",
        "x\r\n",
        "x[-2]\r\n",
        "x[2:5]\r\n",
        "x[c(1,2,4,6)]"
      ],
      "execution_count": null,
      "outputs": [
        {
          "output_type": "display_data",
          "data": {
            "text/plain": [
              "[1]  67  55 105  10  40  35  40  80"
            ],
            "text/latex": "\\begin{enumerate*}\n\\item 67\n\\item 55\n\\item 105\n\\item 10\n\\item 40\n\\item 35\n\\item 40\n\\item 80\n\\end{enumerate*}\n",
            "text/markdown": "1. 67\n2. 55\n3. 105\n4. 10\n5. 40\n6. 35\n7. 40\n8. 80\n\n\n",
            "text/html": [
              "<style>\n",
              ".list-inline {list-style: none; margin:0; padding: 0}\n",
              ".list-inline>li {display: inline-block}\n",
              ".list-inline>li:not(:last-child)::after {content: \"\\00b7\"; padding: 0 .5ex}\n",
              "</style>\n",
              "<ol class=list-inline><li>67</li><li>55</li><li>105</li><li>10</li><li>40</li><li>35</li><li>40</li><li>80</li></ol>\n"
            ]
          },
          "metadata": {
            "tags": []
          }
        },
        {
          "output_type": "display_data",
          "data": {
            "text/plain": [
              "[1]  67 105  10  40  35  40  80"
            ],
            "text/latex": "\\begin{enumerate*}\n\\item 67\n\\item 105\n\\item 10\n\\item 40\n\\item 35\n\\item 40\n\\item 80\n\\end{enumerate*}\n",
            "text/markdown": "1. 67\n2. 105\n3. 10\n4. 40\n5. 35\n6. 40\n7. 80\n\n\n",
            "text/html": [
              "<style>\n",
              ".list-inline {list-style: none; margin:0; padding: 0}\n",
              ".list-inline>li {display: inline-block}\n",
              ".list-inline>li:not(:last-child)::after {content: \"\\00b7\"; padding: 0 .5ex}\n",
              "</style>\n",
              "<ol class=list-inline><li>67</li><li>105</li><li>10</li><li>40</li><li>35</li><li>40</li><li>80</li></ol>\n"
            ]
          },
          "metadata": {
            "tags": []
          }
        },
        {
          "output_type": "display_data",
          "data": {
            "text/plain": [
              "[1]  55 105  10  40"
            ],
            "text/latex": "\\begin{enumerate*}\n\\item 55\n\\item 105\n\\item 10\n\\item 40\n\\end{enumerate*}\n",
            "text/markdown": "1. 55\n2. 105\n3. 10\n4. 40\n\n\n",
            "text/html": [
              "<style>\n",
              ".list-inline {list-style: none; margin:0; padding: 0}\n",
              ".list-inline>li {display: inline-block}\n",
              ".list-inline>li:not(:last-child)::after {content: \"\\00b7\"; padding: 0 .5ex}\n",
              "</style>\n",
              "<ol class=list-inline><li>55</li><li>105</li><li>10</li><li>40</li></ol>\n"
            ]
          },
          "metadata": {
            "tags": []
          }
        },
        {
          "output_type": "display_data",
          "data": {
            "text/plain": [
              "[1] 67 55 10 35"
            ],
            "text/latex": "\\begin{enumerate*}\n\\item 67\n\\item 55\n\\item 10\n\\item 35\n\\end{enumerate*}\n",
            "text/markdown": "1. 67\n2. 55\n3. 10\n4. 35\n\n\n",
            "text/html": [
              "<style>\n",
              ".list-inline {list-style: none; margin:0; padding: 0}\n",
              ".list-inline>li {display: inline-block}\n",
              ".list-inline>li:not(:last-child)::after {content: \"\\00b7\"; padding: 0 .5ex}\n",
              "</style>\n",
              "<ol class=list-inline><li>67</li><li>55</li><li>10</li><li>35</li></ol>\n"
            ]
          },
          "metadata": {
            "tags": []
          }
        }
      ]
    },
    {
      "cell_type": "code",
      "metadata": {
        "colab": {
          "base_uri": "https://localhost:8080/",
          "height": 33
        },
        "id": "tHGashZqczOX",
        "outputId": "bbeb356e-2547-400a-83cd-781c1808654d"
      },
      "source": [
        "x[2]<-8\r\n",
        "x\r\n",
        "#to replace/overwrite with 8"
      ],
      "execution_count": null,
      "outputs": [
        {
          "output_type": "display_data",
          "data": {
            "text/plain": [
              "[1]  67   8 105  10  40  35  40  80"
            ],
            "text/latex": "\\begin{enumerate*}\n\\item 67\n\\item 8\n\\item 105\n\\item 10\n\\item 40\n\\item 35\n\\item 40\n\\item 80\n\\end{enumerate*}\n",
            "text/markdown": "1. 67\n2. 8\n3. 105\n4. 10\n5. 40\n6. 35\n7. 40\n8. 80\n\n\n",
            "text/html": [
              "<style>\n",
              ".list-inline {list-style: none; margin:0; padding: 0}\n",
              ".list-inline>li {display: inline-block}\n",
              ".list-inline>li:not(:last-child)::after {content: \"\\00b7\"; padding: 0 .5ex}\n",
              "</style>\n",
              "<ol class=list-inline><li>67</li><li>8</li><li>105</li><li>10</li><li>40</li><li>35</li><li>40</li><li>80</li></ol>\n"
            ]
          },
          "metadata": {
            "tags": []
          }
        }
      ]
    },
    {
      "cell_type": "code",
      "metadata": {
        "colab": {
          "base_uri": "https://localhost:8080/",
          "height": 33
        },
        "id": "q1IpTJATeWo1",
        "outputId": "48fa2dfd-e8cb-4d4f-a6d2-7d4280ee8c02"
      },
      "source": [
        "x[-3]<-0\r\n",
        "x\r\n",
        "#for -ve index except that all the other elements are replaced"
      ],
      "execution_count": null,
      "outputs": [
        {
          "output_type": "display_data",
          "data": {
            "text/plain": [
              "[1]   0   0 105   0   0   0   0   0"
            ],
            "text/latex": "\\begin{enumerate*}\n\\item 0\n\\item 0\n\\item 105\n\\item 0\n\\item 0\n\\item 0\n\\item 0\n\\item 0\n\\end{enumerate*}\n",
            "text/markdown": "1. 0\n2. 0\n3. 105\n4. 0\n5. 0\n6. 0\n7. 0\n8. 0\n\n\n",
            "text/html": [
              "<style>\n",
              ".list-inline {list-style: none; margin:0; padding: 0}\n",
              ".list-inline>li {display: inline-block}\n",
              ".list-inline>li:not(:last-child)::after {content: \"\\00b7\"; padding: 0 .5ex}\n",
              "</style>\n",
              "<ol class=list-inline><li>0</li><li>0</li><li>105</li><li>0</li><li>0</li><li>0</li><li>0</li><li>0</li></ol>\n"
            ]
          },
          "metadata": {
            "tags": []
          }
        }
      ]
    },
    {
      "cell_type": "code",
      "metadata": {
        "colab": {
          "base_uri": "https://localhost:8080/",
          "height": 33
        },
        "id": "rka9-ODXeWtx",
        "outputId": "db296512-e623-4366-b640-41576c784c14"
      },
      "source": [
        "x<-c(10,20,30,40,50,60)\r\n",
        "y<-c(T,F,T,T,T,F,T)\r\n",
        "x[y]#"
      ],
      "execution_count": null,
      "outputs": [
        {
          "output_type": "display_data",
          "data": {
            "text/plain": [
              "[1] 10 30 40 50 NA"
            ],
            "text/latex": "\\begin{enumerate*}\n\\item 10\n\\item 30\n\\item 40\n\\item 50\n\\item <NA>\n\\end{enumerate*}\n",
            "text/markdown": "1. 10\n2. 30\n3. 40\n4. 50\n5. &lt;NA&gt;\n\n\n",
            "text/html": [
              "<style>\n",
              ".list-inline {list-style: none; margin:0; padding: 0}\n",
              ".list-inline>li {display: inline-block}\n",
              ".list-inline>li:not(:last-child)::after {content: \"\\00b7\"; padding: 0 .5ex}\n",
              "</style>\n",
              "<ol class=list-inline><li>10</li><li>30</li><li>40</li><li>50</li><li>&lt;NA&gt;</li></ol>\n"
            ]
          },
          "metadata": {
            "tags": []
          }
        }
      ]
    },
    {
      "cell_type": "code",
      "metadata": {
        "colab": {
          "base_uri": "https://localhost:8080/",
          "height": 33
        },
        "id": "Qm4yNh56eW0a",
        "outputId": "51b5355e-892c-49b8-e1a3-35fd7ddcf7a6"
      },
      "source": [
        "x<-c(10,20,30,40,50,60)\r\n",
        "y<-c(T,F,T)\r\n",
        "x[y]#as the length of y is less than x . y vector is extended in round robin fashion"
      ],
      "execution_count": null,
      "outputs": [
        {
          "output_type": "display_data",
          "data": {
            "text/plain": [
              "[1] 10 30 40 60"
            ],
            "text/latex": "\\begin{enumerate*}\n\\item 10\n\\item 30\n\\item 40\n\\item 60\n\\end{enumerate*}\n",
            "text/markdown": "1. 10\n2. 30\n3. 40\n4. 60\n\n\n",
            "text/html": [
              "<style>\n",
              ".list-inline {list-style: none; margin:0; padding: 0}\n",
              ".list-inline>li {display: inline-block}\n",
              ".list-inline>li:not(:last-child)::after {content: \"\\00b7\"; padding: 0 .5ex}\n",
              "</style>\n",
              "<ol class=list-inline><li>10</li><li>30</li><li>40</li><li>60</li></ol>\n"
            ]
          },
          "metadata": {
            "tags": []
          }
        }
      ]
    },
    {
      "cell_type": "code",
      "metadata": {
        "colab": {
          "base_uri": "https://localhost:8080/",
          "height": 50
        },
        "id": "TtnjH6YwfRXm",
        "outputId": "1b60bf36-2c54-470a-d3c9-f6c449d85ee2"
      },
      "source": [
        "#matching operator %in%\r\n",
        "35 %in% x\r\n",
        "30 %in% x"
      ],
      "execution_count": null,
      "outputs": [
        {
          "output_type": "display_data",
          "data": {
            "text/plain": [
              "[1] FALSE"
            ],
            "text/latex": "FALSE",
            "text/markdown": "FALSE",
            "text/html": [
              "FALSE"
            ]
          },
          "metadata": {
            "tags": []
          }
        },
        {
          "output_type": "display_data",
          "data": {
            "text/plain": [
              "[1] TRUE"
            ],
            "text/latex": "TRUE",
            "text/markdown": "TRUE",
            "text/html": [
              "TRUE"
            ]
          },
          "metadata": {
            "tags": []
          }
        }
      ]
    },
    {
      "cell_type": "markdown",
      "metadata": {
        "id": "PMEv1iilf8R7"
      },
      "source": [
        "### arithematic operations"
      ]
    },
    {
      "cell_type": "code",
      "metadata": {
        "colab": {
          "base_uri": "https://localhost:8080/",
          "height": 67
        },
        "id": "ISefDJVVf7aw",
        "outputId": "6dd72cf7-a052-4b67-9de9-489a79c29003"
      },
      "source": [
        "x<-c(10,20,30,100)\r\n",
        "x\r\n",
        "sqrt(x)\r\n",
        "y<-x-10\r\n",
        "y"
      ],
      "execution_count": null,
      "outputs": [
        {
          "output_type": "display_data",
          "data": {
            "text/plain": [
              "[1]  10  20  30 100"
            ],
            "text/latex": "\\begin{enumerate*}\n\\item 10\n\\item 20\n\\item 30\n\\item 100\n\\end{enumerate*}\n",
            "text/markdown": "1. 10\n2. 20\n3. 30\n4. 100\n\n\n",
            "text/html": [
              "<style>\n",
              ".list-inline {list-style: none; margin:0; padding: 0}\n",
              ".list-inline>li {display: inline-block}\n",
              ".list-inline>li:not(:last-child)::after {content: \"\\00b7\"; padding: 0 .5ex}\n",
              "</style>\n",
              "<ol class=list-inline><li>10</li><li>20</li><li>30</li><li>100</li></ol>\n"
            ]
          },
          "metadata": {
            "tags": []
          }
        },
        {
          "output_type": "display_data",
          "data": {
            "text/plain": [
              "[1]  3.162278  4.472136  5.477226 10.000000"
            ],
            "text/latex": "\\begin{enumerate*}\n\\item 3.16227766016838\n\\item 4.47213595499958\n\\item 5.47722557505166\n\\item 10\n\\end{enumerate*}\n",
            "text/markdown": "1. 3.16227766016838\n2. 4.47213595499958\n3. 5.47722557505166\n4. 10\n\n\n",
            "text/html": [
              "<style>\n",
              ".list-inline {list-style: none; margin:0; padding: 0}\n",
              ".list-inline>li {display: inline-block}\n",
              ".list-inline>li:not(:last-child)::after {content: \"\\00b7\"; padding: 0 .5ex}\n",
              "</style>\n",
              "<ol class=list-inline><li>3.16227766016838</li><li>4.47213595499958</li><li>5.47722557505166</li><li>10</li></ol>\n"
            ]
          },
          "metadata": {
            "tags": []
          }
        },
        {
          "output_type": "display_data",
          "data": {
            "text/plain": [
              "[1]  0 10 20 90"
            ],
            "text/latex": "\\begin{enumerate*}\n\\item 0\n\\item 10\n\\item 20\n\\item 90\n\\end{enumerate*}\n",
            "text/markdown": "1. 0\n2. 10\n3. 20\n4. 90\n\n\n",
            "text/html": [
              "<style>\n",
              ".list-inline {list-style: none; margin:0; padding: 0}\n",
              ".list-inline>li {display: inline-block}\n",
              ".list-inline>li:not(:last-child)::after {content: \"\\00b7\"; padding: 0 .5ex}\n",
              "</style>\n",
              "<ol class=list-inline><li>0</li><li>10</li><li>20</li><li>90</li></ol>\n"
            ]
          },
          "metadata": {
            "tags": []
          }
        }
      ]
    },
    {
      "cell_type": "code",
      "metadata": {
        "colab": {
          "base_uri": "https://localhost:8080/",
          "height": 164
        },
        "id": "on2mfzuYf7fq",
        "outputId": "b7b00609-44e5-429e-8eb2-ca3e02042ecb"
      },
      "source": [
        "rev(y)#reverse\r\n",
        "sort(y)\r\n",
        "x %*% y\r\n"
      ],
      "execution_count": null,
      "outputs": [
        {
          "output_type": "display_data",
          "data": {
            "text/plain": [
              "[1] 90 20 10  0"
            ],
            "text/latex": "\\begin{enumerate*}\n\\item 90\n\\item 20\n\\item 10\n\\item 0\n\\end{enumerate*}\n",
            "text/markdown": "1. 90\n2. 20\n3. 10\n4. 0\n\n\n",
            "text/html": [
              "<style>\n",
              ".list-inline {list-style: none; margin:0; padding: 0}\n",
              ".list-inline>li {display: inline-block}\n",
              ".list-inline>li:not(:last-child)::after {content: \"\\00b7\"; padding: 0 .5ex}\n",
              "</style>\n",
              "<ol class=list-inline><li>90</li><li>20</li><li>10</li><li>0</li></ol>\n"
            ]
          },
          "metadata": {
            "tags": []
          }
        },
        {
          "output_type": "display_data",
          "data": {
            "text/plain": [
              "[1]  0 10 20 90"
            ],
            "text/latex": "\\begin{enumerate*}\n\\item 0\n\\item 10\n\\item 20\n\\item 90\n\\end{enumerate*}\n",
            "text/markdown": "1. 0\n2. 10\n3. 20\n4. 90\n\n\n",
            "text/html": [
              "<style>\n",
              ".list-inline {list-style: none; margin:0; padding: 0}\n",
              ".list-inline>li {display: inline-block}\n",
              ".list-inline>li:not(:last-child)::after {content: \"\\00b7\"; padding: 0 .5ex}\n",
              "</style>\n",
              "<ol class=list-inline><li>0</li><li>10</li><li>20</li><li>90</li></ol>\n"
            ]
          },
          "metadata": {
            "tags": []
          }
        },
        {
          "output_type": "display_data",
          "data": {
            "text/plain": [
              "     [,1]\n",
              "[1,] 9800"
            ],
            "text/latex": "A matrix: 1 × 1 of type dbl\n\\begin{tabular}{l}\n\t 9800\\\\\n\\end{tabular}\n",
            "text/markdown": "\nA matrix: 1 × 1 of type dbl\n\n| 9800 |\n\n",
            "text/html": [
              "<table class=\"dataframe\">\n",
              "<caption>A matrix: 1 × 1 of type dbl</caption>\n",
              "<tbody>\n",
              "\t<tr><td>9800</td></tr>\n",
              "</tbody>\n",
              "</table>\n"
            ]
          },
          "metadata": {
            "tags": []
          }
        }
      ]
    },
    {
      "cell_type": "code",
      "metadata": {
        "colab": {
          "base_uri": "https://localhost:8080/",
          "height": 130
        },
        "id": "Md1xwV_EfRb1",
        "outputId": "504e97f7-08e3-4e19-b655-3e6399d9c21c"
      },
      "source": [
        "crossprod(x,y)"
      ],
      "execution_count": null,
      "outputs": [
        {
          "output_type": "display_data",
          "data": {
            "text/plain": [
              "     [,1]\n",
              "[1,] 9800"
            ],
            "text/latex": "A matrix: 1 × 1 of type dbl\n\\begin{tabular}{l}\n\t 9800\\\\\n\\end{tabular}\n",
            "text/markdown": "\nA matrix: 1 × 1 of type dbl\n\n| 9800 |\n\n",
            "text/html": [
              "<table class=\"dataframe\">\n",
              "<caption>A matrix: 1 × 1 of type dbl</caption>\n",
              "<tbody>\n",
              "\t<tr><td>9800</td></tr>\n",
              "</tbody>\n",
              "</table>\n"
            ]
          },
          "metadata": {
            "tags": []
          }
        }
      ]
    },
    {
      "cell_type": "code",
      "metadata": {
        "colab": {
          "base_uri": "https://localhost:8080/",
          "height": 153
        },
        "id": "wfYiBx3shOrs",
        "outputId": "e79d639a-a4cc-4b28-db60-63b585afdba1"
      },
      "source": [
        "x %o% y"
      ],
      "execution_count": null,
      "outputs": [
        {
          "output_type": "display_data",
          "data": {
            "text/plain": [
              "     [,1] [,2] [,3] [,4]\n",
              "[1,] 0     100  200  900\n",
              "[2,] 0     200  400 1800\n",
              "[3,] 0     300  600 2700\n",
              "[4,] 0    1000 2000 9000"
            ],
            "text/latex": "A matrix: 4 × 4 of type dbl\n\\begin{tabular}{llll}\n\t 0 &  100 &  200 &  900\\\\\n\t 0 &  200 &  400 & 1800\\\\\n\t 0 &  300 &  600 & 2700\\\\\n\t 0 & 1000 & 2000 & 9000\\\\\n\\end{tabular}\n",
            "text/markdown": "\nA matrix: 4 × 4 of type dbl\n\n| 0 |  100 |  200 |  900 |\n| 0 |  200 |  400 | 1800 |\n| 0 |  300 |  600 | 2700 |\n| 0 | 1000 | 2000 | 9000 |\n\n",
            "text/html": [
              "<table class=\"dataframe\">\n",
              "<caption>A matrix: 4 × 4 of type dbl</caption>\n",
              "<tbody>\n",
              "\t<tr><td>0</td><td> 100</td><td> 200</td><td> 900</td></tr>\n",
              "\t<tr><td>0</td><td> 200</td><td> 400</td><td>1800</td></tr>\n",
              "\t<tr><td>0</td><td> 300</td><td> 600</td><td>2700</td></tr>\n",
              "\t<tr><td>0</td><td>1000</td><td>2000</td><td>9000</td></tr>\n",
              "</tbody>\n",
              "</table>\n"
            ]
          },
          "metadata": {
            "tags": []
          }
        }
      ]
    },
    {
      "cell_type": "code",
      "metadata": {
        "colab": {
          "base_uri": "https://localhost:8080/",
          "height": 50
        },
        "id": "tzLh5wj7hOvy",
        "outputId": "233f11d6-4c62-451f-ef12-7f79a02eb6f6"
      },
      "source": [
        "out<- x> 10 & x<50\r\n",
        "out\r\n",
        "x[out]"
      ],
      "execution_count": null,
      "outputs": [
        {
          "output_type": "display_data",
          "data": {
            "text/plain": [
              "[1] FALSE  TRUE  TRUE FALSE"
            ],
            "text/latex": "\\begin{enumerate*}\n\\item FALSE\n\\item TRUE\n\\item TRUE\n\\item FALSE\n\\end{enumerate*}\n",
            "text/markdown": "1. FALSE\n2. TRUE\n3. TRUE\n4. FALSE\n\n\n",
            "text/html": [
              "<style>\n",
              ".list-inline {list-style: none; margin:0; padding: 0}\n",
              ".list-inline>li {display: inline-block}\n",
              ".list-inline>li:not(:last-child)::after {content: \"\\00b7\"; padding: 0 .5ex}\n",
              "</style>\n",
              "<ol class=list-inline><li>FALSE</li><li>TRUE</li><li>TRUE</li><li>FALSE</li></ol>\n"
            ]
          },
          "metadata": {
            "tags": []
          }
        },
        {
          "output_type": "display_data",
          "data": {
            "text/plain": [
              "[1] 20 30"
            ],
            "text/latex": "\\begin{enumerate*}\n\\item 20\n\\item 30\n\\end{enumerate*}\n",
            "text/markdown": "1. 20\n2. 30\n\n\n",
            "text/html": [
              "<style>\n",
              ".list-inline {list-style: none; margin:0; padding: 0}\n",
              ".list-inline>li {display: inline-block}\n",
              ".list-inline>li:not(:last-child)::after {content: \"\\00b7\"; padding: 0 .5ex}\n",
              "</style>\n",
              "<ol class=list-inline><li>20</li><li>30</li></ol>\n"
            ]
          },
          "metadata": {
            "tags": []
          }
        }
      ]
    },
    {
      "cell_type": "code",
      "metadata": {
        "colab": {
          "base_uri": "https://localhost:8080/",
          "height": 50
        },
        "id": "1PlKLawThrwP",
        "outputId": "9b59261e-4c0f-4361-abc7-318a8d5501d7"
      },
      "source": [
        "index<-which(x>20)\r\n",
        "index\r\n",
        "x[index]"
      ],
      "execution_count": null,
      "outputs": [
        {
          "output_type": "display_data",
          "data": {
            "text/plain": [
              "[1] 3 4"
            ],
            "text/latex": "\\begin{enumerate*}\n\\item 3\n\\item 4\n\\end{enumerate*}\n",
            "text/markdown": "1. 3\n2. 4\n\n\n",
            "text/html": [
              "<style>\n",
              ".list-inline {list-style: none; margin:0; padding: 0}\n",
              ".list-inline>li {display: inline-block}\n",
              ".list-inline>li:not(:last-child)::after {content: \"\\00b7\"; padding: 0 .5ex}\n",
              "</style>\n",
              "<ol class=list-inline><li>3</li><li>4</li></ol>\n"
            ]
          },
          "metadata": {
            "tags": []
          }
        },
        {
          "output_type": "display_data",
          "data": {
            "text/plain": [
              "[1]  30 100"
            ],
            "text/latex": "\\begin{enumerate*}\n\\item 30\n\\item 100\n\\end{enumerate*}\n",
            "text/markdown": "1. 30\n2. 100\n\n\n",
            "text/html": [
              "<style>\n",
              ".list-inline {list-style: none; margin:0; padding: 0}\n",
              ".list-inline>li {display: inline-block}\n",
              ".list-inline>li:not(:last-child)::after {content: \"\\00b7\"; padding: 0 .5ex}\n",
              "</style>\n",
              "<ol class=list-inline><li>30</li><li>100</li></ol>\n"
            ]
          },
          "metadata": {
            "tags": []
          }
        }
      ]
    },
    {
      "cell_type": "markdown",
      "metadata": {
        "id": "YGqfunbFjxrp"
      },
      "source": [
        "### factor"
      ]
    },
    {
      "cell_type": "code",
      "metadata": {
        "colab": {
          "base_uri": "https://localhost:8080/",
          "height": 117
        },
        "id": "47b8dYNkjy_T",
        "outputId": "2eebe48a-06c6-4906-d2ca-1e0c2e081f8a"
      },
      "source": [
        "x<-factor(c(\"male\",\"female\",\"male\",\"female\",\"male\",\"male\",\"female\",\"male\"))\r\n",
        "x\r\n",
        "table(x)"
      ],
      "execution_count": null,
      "outputs": [
        {
          "output_type": "display_data",
          "data": {
            "text/plain": [
              "[1] male   female male   female male   male   female male  \n",
              "Levels: female male"
            ],
            "text/latex": "\\begin{enumerate*}\n\\item male\n\\item female\n\\item male\n\\item female\n\\item male\n\\item male\n\\item female\n\\item male\n\\end{enumerate*}\n\n\\emph{Levels}: \\begin{enumerate*}\n\\item 'female'\n\\item 'male'\n\\end{enumerate*}\n",
            "text/markdown": "1. male\n2. female\n3. male\n4. female\n5. male\n6. male\n7. female\n8. male\n\n\n\n**Levels**: 1. 'female'\n2. 'male'\n\n\n",
            "text/html": [
              "<style>\n",
              ".list-inline {list-style: none; margin:0; padding: 0}\n",
              ".list-inline>li {display: inline-block}\n",
              ".list-inline>li:not(:last-child)::after {content: \"\\00b7\"; padding: 0 .5ex}\n",
              "</style>\n",
              "<ol class=list-inline><li>male</li><li>female</li><li>male</li><li>female</li><li>male</li><li>male</li><li>female</li><li>male</li></ol>\n",
              "\n",
              "<details>\n",
              "\t<summary style=display:list-item;cursor:pointer>\n",
              "\t\t<strong>Levels</strong>:\n",
              "\t</summary>\n",
              "\t<style>\n",
              "\t.list-inline {list-style: none; margin:0; padding: 0}\n",
              "\t.list-inline>li {display: inline-block}\n",
              "\t.list-inline>li:not(:last-child)::after {content: \"\\00b7\"; padding: 0 .5ex}\n",
              "\t</style>\n",
              "\t<ol class=list-inline><li>'female'</li><li>'male'</li></ol>\n",
              "</details>"
            ]
          },
          "metadata": {
            "tags": []
          }
        },
        {
          "output_type": "display_data",
          "data": {
            "text/plain": [
              "x\n",
              "female   male \n",
              "     3      5 "
            ]
          },
          "metadata": {
            "tags": []
          }
        }
      ]
    },
    {
      "cell_type": "markdown",
      "metadata": {
        "id": "YcmA0vdhkQ1a"
      },
      "source": [
        "Mathematical operations"
      ]
    },
    {
      "cell_type": "code",
      "metadata": {
        "colab": {
          "base_uri": "https://localhost:8080/",
          "height": 117
        },
        "id": "NyZ-WQo-jzFC",
        "outputId": "40671b4a-95fc-4eb3-e8b3-37e69303912b"
      },
      "source": [
        "x<-c(3.66,6.78,9.101,-1.01)\r\n",
        "abs(x)\r\n",
        "ceiling(x)\r\n",
        "floor(x)\r\n",
        "round(x)\r\n",
        "round(x,1)"
      ],
      "execution_count": null,
      "outputs": [
        {
          "output_type": "display_data",
          "data": {
            "text/plain": [
              "[1] 3.660 6.780 9.101 1.010"
            ],
            "text/latex": "\\begin{enumerate*}\n\\item 3.66\n\\item 6.78\n\\item 9.101\n\\item 1.01\n\\end{enumerate*}\n",
            "text/markdown": "1. 3.66\n2. 6.78\n3. 9.101\n4. 1.01\n\n\n",
            "text/html": [
              "<style>\n",
              ".list-inline {list-style: none; margin:0; padding: 0}\n",
              ".list-inline>li {display: inline-block}\n",
              ".list-inline>li:not(:last-child)::after {content: \"\\00b7\"; padding: 0 .5ex}\n",
              "</style>\n",
              "<ol class=list-inline><li>3.66</li><li>6.78</li><li>9.101</li><li>1.01</li></ol>\n"
            ]
          },
          "metadata": {
            "tags": []
          }
        },
        {
          "output_type": "display_data",
          "data": {
            "text/plain": [
              "[1]  4  7 10 -1"
            ],
            "text/latex": "\\begin{enumerate*}\n\\item 4\n\\item 7\n\\item 10\n\\item -1\n\\end{enumerate*}\n",
            "text/markdown": "1. 4\n2. 7\n3. 10\n4. -1\n\n\n",
            "text/html": [
              "<style>\n",
              ".list-inline {list-style: none; margin:0; padding: 0}\n",
              ".list-inline>li {display: inline-block}\n",
              ".list-inline>li:not(:last-child)::after {content: \"\\00b7\"; padding: 0 .5ex}\n",
              "</style>\n",
              "<ol class=list-inline><li>4</li><li>7</li><li>10</li><li>-1</li></ol>\n"
            ]
          },
          "metadata": {
            "tags": []
          }
        },
        {
          "output_type": "display_data",
          "data": {
            "text/plain": [
              "[1]  3  6  9 -2"
            ],
            "text/latex": "\\begin{enumerate*}\n\\item 3\n\\item 6\n\\item 9\n\\item -2\n\\end{enumerate*}\n",
            "text/markdown": "1. 3\n2. 6\n3. 9\n4. -2\n\n\n",
            "text/html": [
              "<style>\n",
              ".list-inline {list-style: none; margin:0; padding: 0}\n",
              ".list-inline>li {display: inline-block}\n",
              ".list-inline>li:not(:last-child)::after {content: \"\\00b7\"; padding: 0 .5ex}\n",
              "</style>\n",
              "<ol class=list-inline><li>3</li><li>6</li><li>9</li><li>-2</li></ol>\n"
            ]
          },
          "metadata": {
            "tags": []
          }
        },
        {
          "output_type": "display_data",
          "data": {
            "text/plain": [
              "[1]  4  7  9 -1"
            ],
            "text/latex": "\\begin{enumerate*}\n\\item 4\n\\item 7\n\\item 9\n\\item -1\n\\end{enumerate*}\n",
            "text/markdown": "1. 4\n2. 7\n3. 9\n4. -1\n\n\n",
            "text/html": [
              "<style>\n",
              ".list-inline {list-style: none; margin:0; padding: 0}\n",
              ".list-inline>li {display: inline-block}\n",
              ".list-inline>li:not(:last-child)::after {content: \"\\00b7\"; padding: 0 .5ex}\n",
              "</style>\n",
              "<ol class=list-inline><li>4</li><li>7</li><li>9</li><li>-1</li></ol>\n"
            ]
          },
          "metadata": {
            "tags": []
          }
        },
        {
          "output_type": "display_data",
          "data": {
            "text/plain": [
              "[1]  3.7  6.8  9.1 -1.0"
            ],
            "text/latex": "\\begin{enumerate*}\n\\item 3.7\n\\item 6.8\n\\item 9.1\n\\item -1\n\\end{enumerate*}\n",
            "text/markdown": "1. 3.7\n2. 6.8\n3. 9.1\n4. -1\n\n\n",
            "text/html": [
              "<style>\n",
              ".list-inline {list-style: none; margin:0; padding: 0}\n",
              ".list-inline>li {display: inline-block}\n",
              ".list-inline>li:not(:last-child)::after {content: \"\\00b7\"; padding: 0 .5ex}\n",
              "</style>\n",
              "<ol class=list-inline><li>3.7</li><li>6.8</li><li>9.1</li><li>-1</li></ol>\n"
            ]
          },
          "metadata": {
            "tags": []
          }
        },
        {
          "output_type": "display_data",
          "data": {
            "text/plain": [
              "[1]  3  6  9 -1"
            ],
            "text/latex": "\\begin{enumerate*}\n\\item 3\n\\item 6\n\\item 9\n\\item -1\n\\end{enumerate*}\n",
            "text/markdown": "1. 3\n2. 6\n3. 9\n4. -1\n\n\n",
            "text/html": [
              "<style>\n",
              ".list-inline {list-style: none; margin:0; padding: 0}\n",
              ".list-inline>li {display: inline-block}\n",
              ".list-inline>li:not(:last-child)::after {content: \"\\00b7\"; padding: 0 .5ex}\n",
              "</style>\n",
              "<ol class=list-inline><li>3</li><li>6</li><li>9</li><li>-1</li></ol>\n"
            ]
          },
          "metadata": {
            "tags": []
          }
        }
      ]
    },
    {
      "cell_type": "code",
      "metadata": {
        "colab": {
          "base_uri": "https://localhost:8080/",
          "height": 33
        },
        "id": "1F95oz1hhsZ9",
        "outputId": "fa980fe3-2b7d-4e4a-fdfe-bf45ba4b241d"
      },
      "source": [
        "x<-c(3.66,6.78,9.101,-1.01)\r\n",
        "trunc(x)"
      ],
      "execution_count": null,
      "outputs": [
        {
          "output_type": "display_data",
          "data": {
            "text/plain": [
              "[1]  3  6  9 -1"
            ],
            "text/latex": "\\begin{enumerate*}\n\\item 3\n\\item 6\n\\item 9\n\\item -1\n\\end{enumerate*}\n",
            "text/markdown": "1. 3\n2. 6\n3. 9\n4. -1\n\n\n",
            "text/html": [
              "<style>\n",
              ".list-inline {list-style: none; margin:0; padding: 0}\n",
              ".list-inline>li {display: inline-block}\n",
              ".list-inline>li:not(:last-child)::after {content: \"\\00b7\"; padding: 0 .5ex}\n",
              "</style>\n",
              "<ol class=list-inline><li>3</li><li>6</li><li>9</li><li>-1</li></ol>\n"
            ]
          },
          "metadata": {
            "tags": []
          }
        }
      ]
    },
    {
      "cell_type": "code",
      "metadata": {
        "colab": {
          "base_uri": "https://localhost:8080/",
          "height": 100
        },
        "id": "EMP_c04sk5EK",
        "outputId": "9b495a5c-3671-4cbb-9417-c4aa434a03ff"
      },
      "source": [
        "x<-c(3.66,6.78,9,10)\r\n",
        "sqrt(x)\r\n",
        "exp(x)\r\n",
        "log(x)\r\n",
        "log(x,base=10)\r\n",
        "log10(x)"
      ],
      "execution_count": null,
      "outputs": [
        {
          "output_type": "display_data",
          "data": {
            "text/plain": [
              "[1] 1.913113 2.603843 3.000000 3.162278"
            ],
            "text/latex": "\\begin{enumerate*}\n\\item 1.9131126469709\n\\item 2.60384331325831\n\\item 3\n\\item 3.16227766016838\n\\end{enumerate*}\n",
            "text/markdown": "1. 1.9131126469709\n2. 2.60384331325831\n3. 3\n4. 3.16227766016838\n\n\n",
            "text/html": [
              "<style>\n",
              ".list-inline {list-style: none; margin:0; padding: 0}\n",
              ".list-inline>li {display: inline-block}\n",
              ".list-inline>li:not(:last-child)::after {content: \"\\00b7\"; padding: 0 .5ex}\n",
              "</style>\n",
              "<ol class=list-inline><li>1.9131126469709</li><li>2.60384331325831</li><li>3</li><li>3.16227766016838</li></ol>\n"
            ]
          },
          "metadata": {
            "tags": []
          }
        },
        {
          "output_type": "display_data",
          "data": {
            "text/plain": [
              "[1]    38.86134   880.06872  8103.08393 22026.46579"
            ],
            "text/latex": "\\begin{enumerate*}\n\\item 38.8613428713325\n\\item 880.068724107803\n\\item 8103.08392757538\n\\item 22026.4657948067\n\\end{enumerate*}\n",
            "text/markdown": "1. 38.8613428713325\n2. 880.068724107803\n3. 8103.08392757538\n4. 22026.4657948067\n\n\n",
            "text/html": [
              "<style>\n",
              ".list-inline {list-style: none; margin:0; padding: 0}\n",
              ".list-inline>li {display: inline-block}\n",
              ".list-inline>li:not(:last-child)::after {content: \"\\00b7\"; padding: 0 .5ex}\n",
              "</style>\n",
              "<ol class=list-inline><li>38.8613428713325</li><li>880.068724107803</li><li>8103.08392757538</li><li>22026.4657948067</li></ol>\n"
            ]
          },
          "metadata": {
            "tags": []
          }
        },
        {
          "output_type": "display_data",
          "data": {
            "text/plain": [
              "[1] 1.297463 1.913977 2.197225 2.302585"
            ],
            "text/latex": "\\begin{enumerate*}\n\\item 1.29746314741327\n\\item 1.9139771019523\n\\item 2.19722457733622\n\\item 2.30258509299405\n\\end{enumerate*}\n",
            "text/markdown": "1. 1.29746314741327\n2. 1.9139771019523\n3. 2.19722457733622\n4. 2.30258509299405\n\n\n",
            "text/html": [
              "<style>\n",
              ".list-inline {list-style: none; margin:0; padding: 0}\n",
              ".list-inline>li {display: inline-block}\n",
              ".list-inline>li:not(:last-child)::after {content: \"\\00b7\"; padding: 0 .5ex}\n",
              "</style>\n",
              "<ol class=list-inline><li>1.29746314741327</li><li>1.9139771019523</li><li>2.19722457733622</li><li>2.30258509299405</li></ol>\n"
            ]
          },
          "metadata": {
            "tags": []
          }
        },
        {
          "output_type": "display_data",
          "data": {
            "text/plain": [
              "[1] 0.5634811 0.8312297 0.9542425 1.0000000"
            ],
            "text/latex": "\\begin{enumerate*}\n\\item 0.563481085394411\n\\item 0.831229693867063\n\\item 0.954242509439325\n\\item 1\n\\end{enumerate*}\n",
            "text/markdown": "1. 0.563481085394411\n2. 0.831229693867063\n3. 0.954242509439325\n4. 1\n\n\n",
            "text/html": [
              "<style>\n",
              ".list-inline {list-style: none; margin:0; padding: 0}\n",
              ".list-inline>li {display: inline-block}\n",
              ".list-inline>li:not(:last-child)::after {content: \"\\00b7\"; padding: 0 .5ex}\n",
              "</style>\n",
              "<ol class=list-inline><li>0.563481085394411</li><li>0.831229693867063</li><li>0.954242509439325</li><li>1</li></ol>\n"
            ]
          },
          "metadata": {
            "tags": []
          }
        },
        {
          "output_type": "display_data",
          "data": {
            "text/plain": [
              "[1] 0.5634811 0.8312297 0.9542425 1.0000000"
            ],
            "text/latex": "\\begin{enumerate*}\n\\item 0.563481085394411\n\\item 0.831229693867063\n\\item 0.954242509439325\n\\item 1\n\\end{enumerate*}\n",
            "text/markdown": "1. 0.563481085394411\n2. 0.831229693867063\n3. 0.954242509439325\n4. 1\n\n\n",
            "text/html": [
              "<style>\n",
              ".list-inline {list-style: none; margin:0; padding: 0}\n",
              ".list-inline>li {display: inline-block}\n",
              ".list-inline>li:not(:last-child)::after {content: \"\\00b7\"; padding: 0 .5ex}\n",
              "</style>\n",
              "<ol class=list-inline><li>0.563481085394411</li><li>0.831229693867063</li><li>0.954242509439325</li><li>1</li></ol>\n"
            ]
          },
          "metadata": {
            "tags": []
          }
        }
      ]
    },
    {
      "cell_type": "code",
      "metadata": {
        "colab": {
          "base_uri": "https://localhost:8080/",
          "height": 33
        },
        "id": "pay6upvdlR2p",
        "outputId": "cfaae647-0a07-4bfd-c7c1-9b51176961ac"
      },
      "source": [
        "factorial(5)"
      ],
      "execution_count": null,
      "outputs": [
        {
          "output_type": "display_data",
          "data": {
            "text/plain": [
              "[1] 120"
            ],
            "text/latex": "120",
            "text/markdown": "120",
            "text/html": [
              "120"
            ]
          },
          "metadata": {
            "tags": []
          }
        }
      ]
    },
    {
      "cell_type": "markdown",
      "metadata": {
        "id": "tMgZ7JxClYIc"
      },
      "source": [
        "### random numbers"
      ]
    },
    {
      "cell_type": "code",
      "metadata": {
        "colab": {
          "base_uri": "https://localhost:8080/",
          "height": 67
        },
        "id": "JvcdTz8ClSVS",
        "outputId": "355546d4-efbe-4174-e784-6e5a260f9f1c"
      },
      "source": [
        "r<-rnorm(10)\r\n",
        "r#mean=0,std=1"
      ],
      "execution_count": null,
      "outputs": [
        {
          "output_type": "display_data",
          "data": {
            "text/plain": [
              " [1]  2.1608776  0.9930759  0.9147426  0.2748140 -1.8742311 -0.8091658\n",
              " [7] -1.4702915 -0.7095577 -0.9110689  1.6532014"
            ],
            "text/latex": "\\begin{enumerate*}\n\\item 2.16087763448505\n\\item 0.993075856579701\n\\item 0.914742617223747\n\\item 0.274813998145719\n\\item -1.87423114211433\n\\item -0.809165800446437\n\\item -1.47029147333903\n\\item -0.709557653044569\n\\item -0.91106890927378\n\\item 1.65320141439457\n\\end{enumerate*}\n",
            "text/markdown": "1. 2.16087763448505\n2. 0.993075856579701\n3. 0.914742617223747\n4. 0.274813998145719\n5. -1.87423114211433\n6. -0.809165800446437\n7. -1.47029147333903\n8. -0.709557653044569\n9. -0.91106890927378\n10. 1.65320141439457\n\n\n",
            "text/html": [
              "<style>\n",
              ".list-inline {list-style: none; margin:0; padding: 0}\n",
              ".list-inline>li {display: inline-block}\n",
              ".list-inline>li:not(:last-child)::after {content: \"\\00b7\"; padding: 0 .5ex}\n",
              "</style>\n",
              "<ol class=list-inline><li>2.16087763448505</li><li>0.993075856579701</li><li>0.914742617223747</li><li>0.274813998145719</li><li>-1.87423114211433</li><li>-0.809165800446437</li><li>-1.47029147333903</li><li>-0.709557653044569</li><li>-0.91106890927378</li><li>1.65320141439457</li></ol>\n"
            ]
          },
          "metadata": {
            "tags": []
          }
        }
      ]
    },
    {
      "cell_type": "code",
      "metadata": {
        "colab": {
          "base_uri": "https://localhost:8080/",
          "height": 67
        },
        "id": "KoNZJie-lSZM",
        "outputId": "d85cfc51-6e02-4d6b-a6b1-40738e2b634b"
      },
      "source": [
        "y<-rnorm(10,mean=2,sd=1)\r\n",
        "y"
      ],
      "execution_count": null,
      "outputs": [
        {
          "output_type": "display_data",
          "data": {
            "text/plain": [
              " [1] 2.6237787 1.1807167 2.7357963 2.6502388 3.1137720 0.4817669 3.1648060\n",
              " [8] 2.0615122 1.1552406 1.8859553"
            ],
            "text/latex": "\\begin{enumerate*}\n\\item 2.6237787437403\n\\item 1.18071668336848\n\\item 2.73579632028604\n\\item 2.65023878341606\n\\item 3.1137720470878\n\\item 0.481766938087126\n\\item 3.16480599941736\n\\item 2.06151221582948\n\\item 1.15524055496118\n\\item 1.8859552824791\n\\end{enumerate*}\n",
            "text/markdown": "1. 2.6237787437403\n2. 1.18071668336848\n3. 2.73579632028604\n4. 2.65023878341606\n5. 3.1137720470878\n6. 0.481766938087126\n7. 3.16480599941736\n8. 2.06151221582948\n9. 1.15524055496118\n10. 1.8859552824791\n\n\n",
            "text/html": [
              "<style>\n",
              ".list-inline {list-style: none; margin:0; padding: 0}\n",
              ".list-inline>li {display: inline-block}\n",
              ".list-inline>li:not(:last-child)::after {content: \"\\00b7\"; padding: 0 .5ex}\n",
              "</style>\n",
              "<ol class=list-inline><li>2.6237787437403</li><li>1.18071668336848</li><li>2.73579632028604</li><li>2.65023878341606</li><li>3.1137720470878</li><li>0.481766938087126</li><li>3.16480599941736</li><li>2.06151221582948</li><li>1.15524055496118</li><li>1.8859552824791</li></ol>\n"
            ]
          },
          "metadata": {
            "tags": []
          }
        }
      ]
    },
    {
      "cell_type": "markdown",
      "metadata": {
        "id": "qjiMqzhGlw9o"
      },
      "source": [
        "# matrix\r\n",
        "\r\n",
        "matrix are created in columnwise"
      ]
    },
    {
      "cell_type": "code",
      "metadata": {
        "colab": {
          "base_uri": "https://localhost:8080/",
          "height": 126
        },
        "id": "RT-p6sVclyWd",
        "outputId": "019f8bee-f3a3-479c-d0a1-83671bdfa245"
      },
      "source": [
        "m<-matrix(nrow=2,ncol=3)\r\n",
        "m\r\n",
        "dim(m)"
      ],
      "execution_count": null,
      "outputs": [
        {
          "output_type": "display_data",
          "data": {
            "text/plain": [
              "     [,1] [,2] [,3]\n",
              "[1,] NA   NA   NA  \n",
              "[2,] NA   NA   NA  "
            ],
            "text/latex": "A matrix: 2 × 3 of type lgl\n\\begin{tabular}{lll}\n\t NA & NA & NA\\\\\n\t NA & NA & NA\\\\\n\\end{tabular}\n",
            "text/markdown": "\nA matrix: 2 × 3 of type lgl\n\n| NA | NA | NA |\n| NA | NA | NA |\n\n",
            "text/html": [
              "<table class=\"dataframe\">\n",
              "<caption>A matrix: 2 × 3 of type lgl</caption>\n",
              "<tbody>\n",
              "\t<tr><td>NA</td><td>NA</td><td>NA</td></tr>\n",
              "\t<tr><td>NA</td><td>NA</td><td>NA</td></tr>\n",
              "</tbody>\n",
              "</table>\n"
            ]
          },
          "metadata": {
            "tags": []
          }
        },
        {
          "output_type": "display_data",
          "data": {
            "text/plain": [
              "[1] 2 3"
            ],
            "text/latex": "\\begin{enumerate*}\n\\item 2\n\\item 3\n\\end{enumerate*}\n",
            "text/markdown": "1. 2\n2. 3\n\n\n",
            "text/html": [
              "<style>\n",
              ".list-inline {list-style: none; margin:0; padding: 0}\n",
              ".list-inline>li {display: inline-block}\n",
              ".list-inline>li:not(:last-child)::after {content: \"\\00b7\"; padding: 0 .5ex}\n",
              "</style>\n",
              "<ol class=list-inline><li>2</li><li>3</li></ol>\n"
            ]
          },
          "metadata": {
            "tags": []
          }
        }
      ]
    },
    {
      "cell_type": "code",
      "metadata": {
        "colab": {
          "base_uri": "https://localhost:8080/"
        },
        "id": "pqg_IfRBlycN",
        "outputId": "095688fb-7d99-486c-c50b-3a2a752c0796"
      },
      "source": [
        "m<-matrix(c(1,2,3,4,5,6))\r\n",
        "print(m)"
      ],
      "execution_count": null,
      "outputs": [
        {
          "output_type": "stream",
          "text": [
            "     [,1]\n",
            "[1,]    1\n",
            "[2,]    2\n",
            "[3,]    3\n",
            "[4,]    4\n",
            "[5,]    5\n",
            "[6,]    6\n"
          ],
          "name": "stdout"
        }
      ]
    },
    {
      "cell_type": "code",
      "metadata": {
        "colab": {
          "base_uri": "https://localhost:8080/"
        },
        "id": "QT3TqffYlSdA",
        "outputId": "ce54e242-3bca-43ba-d52c-08a0e858676a"
      },
      "source": [
        "m<-matrix(c(1,2,3,4,5,6),nrow=2,ncol=3)\r\n",
        "print(m)"
      ],
      "execution_count": null,
      "outputs": [
        {
          "output_type": "stream",
          "text": [
            "     [,1] [,2] [,3]\n",
            "[1,]    1    3    5\n",
            "[2,]    2    4    6\n"
          ],
          "name": "stdout"
        }
      ]
    },
    {
      "cell_type": "markdown",
      "metadata": {
        "id": "-o9weAdlmWjm"
      },
      "source": [
        "*by row is used for row wise*"
      ]
    },
    {
      "cell_type": "code",
      "metadata": {
        "colab": {
          "base_uri": "https://localhost:8080/"
        },
        "id": "JSQWKiOYmYlm",
        "outputId": "6a14248b-7578-4692-db63-643299c214e5"
      },
      "source": [
        "m<-matrix(c(1,2,3,4,5,6),nrow=2,ncol=3,byrow=T)\r\n",
        "print(m)"
      ],
      "execution_count": null,
      "outputs": [
        {
          "output_type": "stream",
          "text": [
            "     [,1] [,2] [,3]\n",
            "[1,]    1    2    3\n",
            "[2,]    4    5    6\n"
          ],
          "name": "stdout"
        }
      ]
    },
    {
      "cell_type": "code",
      "metadata": {
        "colab": {
          "base_uri": "https://localhost:8080/",
          "height": 150
        },
        "id": "q0NF6c3llSii",
        "outputId": "88da85fb-bcba-4733-fc52-3d29333961ba"
      },
      "source": [
        "m<-matrix(1:12,nrow=4,ncol=3,byrow=T)\r\n",
        "print(m)\r\n",
        "length(m)\r\n",
        "dim(m)\r\n",
        "nrow(m)"
      ],
      "execution_count": null,
      "outputs": [
        {
          "output_type": "stream",
          "text": [
            "     [,1] [,2] [,3]\n",
            "[1,]    1    2    3\n",
            "[2,]    4    5    6\n",
            "[3,]    7    8    9\n",
            "[4,]   10   11   12\n"
          ],
          "name": "stdout"
        },
        {
          "output_type": "display_data",
          "data": {
            "text/plain": [
              "[1] 12"
            ],
            "text/latex": "12",
            "text/markdown": "12",
            "text/html": [
              "12"
            ]
          },
          "metadata": {
            "tags": []
          }
        },
        {
          "output_type": "display_data",
          "data": {
            "text/plain": [
              "[1] 4 3"
            ],
            "text/latex": "\\begin{enumerate*}\n\\item 4\n\\item 3\n\\end{enumerate*}\n",
            "text/markdown": "1. 4\n2. 3\n\n\n",
            "text/html": [
              "<style>\n",
              ".list-inline {list-style: none; margin:0; padding: 0}\n",
              ".list-inline>li {display: inline-block}\n",
              ".list-inline>li:not(:last-child)::after {content: \"\\00b7\"; padding: 0 .5ex}\n",
              "</style>\n",
              "<ol class=list-inline><li>4</li><li>3</li></ol>\n"
            ]
          },
          "metadata": {
            "tags": []
          }
        },
        {
          "output_type": "display_data",
          "data": {
            "text/plain": [
              "[1] 4"
            ],
            "text/latex": "4",
            "text/markdown": "4",
            "text/html": [
              "4"
            ]
          },
          "metadata": {
            "tags": []
          }
        }
      ]
    },
    {
      "cell_type": "markdown",
      "metadata": {
        "id": "9VgNAfecnREC"
      },
      "source": [
        "matrix diag()"
      ]
    },
    {
      "cell_type": "code",
      "metadata": {
        "colab": {
          "base_uri": "https://localhost:8080/"
        },
        "id": "eyZ-2W1FnPs1",
        "outputId": "7a33b4c2-6ef3-4c21-8fad-931fe1939bca"
      },
      "source": [
        "d<-matrix(1,3,3)\r\n",
        "print(d)"
      ],
      "execution_count": null,
      "outputs": [
        {
          "output_type": "stream",
          "text": [
            "     [,1] [,2] [,3]\n",
            "[1,]    1    1    1\n",
            "[2,]    1    1    1\n",
            "[3,]    1    1    1\n"
          ],
          "name": "stdout"
        }
      ]
    },
    {
      "cell_type": "code",
      "metadata": {
        "colab": {
          "base_uri": "https://localhost:8080/"
        },
        "id": "mUjbcXApncXB",
        "outputId": "0b64c4b0-8bbe-472b-b74b-e67a31531a89"
      },
      "source": [
        "m<-diag(1:5)\r\n",
        "print(m)"
      ],
      "execution_count": null,
      "outputs": [
        {
          "output_type": "stream",
          "text": [
            "     [,1] [,2] [,3] [,4] [,5]\n",
            "[1,]    1    0    0    0    0\n",
            "[2,]    0    2    0    0    0\n",
            "[3,]    0    0    3    0    0\n",
            "[4,]    0    0    0    4    0\n",
            "[5,]    0    0    0    0    5\n"
          ],
          "name": "stdout"
        }
      ]
    },
    {
      "cell_type": "code",
      "metadata": {
        "colab": {
          "base_uri": "https://localhost:8080/",
          "height": 230
        },
        "id": "Mv7V-17pnP5b",
        "outputId": "2efdca25-791f-4926-88b0-c78572db696a"
      },
      "source": [
        "rownames(m)<-c(10,20,30,40,50)\r\n",
        "colnames(m)<-c(\"A\",\"B\",\"C\",\"D\",\"E\")\r\n",
        "m"
      ],
      "execution_count": null,
      "outputs": [
        {
          "output_type": "display_data",
          "data": {
            "text/plain": [
              "   A B C D E\n",
              "10 1 0 0 0 0\n",
              "20 0 2 0 0 0\n",
              "30 0 0 3 0 0\n",
              "40 0 0 0 4 0\n",
              "50 0 0 0 0 5"
            ],
            "text/latex": "A matrix: 5 × 5 of type int\n\\begin{tabular}{r|lllll}\n  & A & B & C & D & E\\\\\n\\hline\n\t10 & 1 & 0 & 0 & 0 & 0\\\\\n\t20 & 0 & 2 & 0 & 0 & 0\\\\\n\t30 & 0 & 0 & 3 & 0 & 0\\\\\n\t40 & 0 & 0 & 0 & 4 & 0\\\\\n\t50 & 0 & 0 & 0 & 0 & 5\\\\\n\\end{tabular}\n",
            "text/markdown": "\nA matrix: 5 × 5 of type int\n\n| <!--/--> | A | B | C | D | E |\n|---|---|---|---|---|---|\n| 10 | 1 | 0 | 0 | 0 | 0 |\n| 20 | 0 | 2 | 0 | 0 | 0 |\n| 30 | 0 | 0 | 3 | 0 | 0 |\n| 40 | 0 | 0 | 0 | 4 | 0 |\n| 50 | 0 | 0 | 0 | 0 | 5 |\n\n",
            "text/html": [
              "<table class=\"dataframe\">\n",
              "<caption>A matrix: 5 × 5 of type int</caption>\n",
              "<thead>\n",
              "\t<tr><th></th><th scope=col>A</th><th scope=col>B</th><th scope=col>C</th><th scope=col>D</th><th scope=col>E</th></tr>\n",
              "</thead>\n",
              "<tbody>\n",
              "\t<tr><th scope=row>10</th><td>1</td><td>0</td><td>0</td><td>0</td><td>0</td></tr>\n",
              "\t<tr><th scope=row>20</th><td>0</td><td>2</td><td>0</td><td>0</td><td>0</td></tr>\n",
              "\t<tr><th scope=row>30</th><td>0</td><td>0</td><td>3</td><td>0</td><td>0</td></tr>\n",
              "\t<tr><th scope=row>40</th><td>0</td><td>0</td><td>0</td><td>4</td><td>0</td></tr>\n",
              "\t<tr><th scope=row>50</th><td>0</td><td>0</td><td>0</td><td>0</td><td>5</td></tr>\n",
              "</tbody>\n",
              "</table>\n"
            ]
          },
          "metadata": {
            "tags": []
          }
        }
      ]
    },
    {
      "cell_type": "markdown",
      "metadata": {
        "id": "FS5E8RnaoKf6"
      },
      "source": [
        "### *matrix* indexing"
      ]
    },
    {
      "cell_type": "code",
      "metadata": {
        "colab": {
          "base_uri": "https://localhost:8080/",
          "height": 33
        },
        "id": "KvJHcy3rnP9a",
        "outputId": "44965f0e-0166-4cae-dc7e-330d5ffb5c01"
      },
      "source": [
        "m[3,]\r\n",
        "m"
      ],
      "execution_count": null,
      "outputs": [
        {
          "output_type": "display_data",
          "data": {
            "text/plain": [
              "A B C D E \n",
              "0 0 3 0 0 "
            ],
            "text/latex": "\\begin{description*}\n\\item[A] 0\n\\item[B] 0\n\\item[C] 3\n\\item[D] 0\n\\item[E] 0\n\\end{description*}\n",
            "text/markdown": "A\n:   0B\n:   0C\n:   3D\n:   0E\n:   0\n\n",
            "text/html": [
              "<style>\n",
              ".dl-inline {width: auto; margin:0; padding: 0}\n",
              ".dl-inline>dt, .dl-inline>dd {float: none; width: auto; display: inline-block}\n",
              ".dl-inline>dt::after {content: \":\\0020\"; padding-right: .5ex}\n",
              ".dl-inline>dt:not(:first-of-type) {padding-left: .5ex}\n",
              "</style><dl class=dl-inline><dt>A</dt><dd>0</dd><dt>B</dt><dd>0</dd><dt>C</dt><dd>3</dd><dt>D</dt><dd>0</dd><dt>E</dt><dd>0</dd></dl>\n"
            ]
          },
          "metadata": {
            "tags": []
          }
        }
      ]
    },
    {
      "cell_type": "code",
      "metadata": {
        "id": "cA57LstOnQCp",
        "colab": {
          "base_uri": "https://localhost:8080/",
          "height": 337
        },
        "outputId": "ad857f2f-5fea-470e-a655-e30d153a8286"
      },
      "source": [
        "A<-matrix(c(2,3,4,0,5,7,5,8,2,1,-1,-2),nrow = 4,ncol = 3,byrow = T)\r\n",
        "print(A)\r\n",
        "A[3,2:3]=80\r\n",
        "A\r\n",
        "print(A)"
      ],
      "execution_count": null,
      "outputs": [
        {
          "output_type": "stream",
          "text": [
            "     [,1] [,2] [,3]\n",
            "[1,]    2    3    4\n",
            "[2,]    0    5    7\n",
            "[3,]    5    8    2\n",
            "[4,]    1   -1   -2\n"
          ],
          "name": "stdout"
        },
        {
          "output_type": "display_data",
          "data": {
            "text/plain": [
              "     [,1] [,2] [,3]\n",
              "[1,] 2     3    4  \n",
              "[2,] 0     5    7  \n",
              "[3,] 5    80   80  \n",
              "[4,] 1    -1   -2  "
            ],
            "text/latex": "A matrix: 4 × 3 of type dbl\n\\begin{tabular}{lll}\n\t 2 &  3 &  4\\\\\n\t 0 &  5 &  7\\\\\n\t 5 & 80 & 80\\\\\n\t 1 & -1 & -2\\\\\n\\end{tabular}\n",
            "text/markdown": "\nA matrix: 4 × 3 of type dbl\n\n| 2 |  3 |  4 |\n| 0 |  5 |  7 |\n| 5 | 80 | 80 |\n| 1 | -1 | -2 |\n\n",
            "text/html": [
              "<table class=\"dataframe\">\n",
              "<caption>A matrix: 4 × 3 of type dbl</caption>\n",
              "<tbody>\n",
              "\t<tr><td>2</td><td> 3</td><td> 4</td></tr>\n",
              "\t<tr><td>0</td><td> 5</td><td> 7</td></tr>\n",
              "\t<tr><td>5</td><td>80</td><td>80</td></tr>\n",
              "\t<tr><td>1</td><td>-1</td><td>-2</td></tr>\n",
              "</tbody>\n",
              "</table>\n"
            ]
          },
          "metadata": {
            "tags": []
          }
        },
        {
          "output_type": "stream",
          "text": [
            "     [,1] [,2] [,3]\n",
            "[1,]    2    3    4\n",
            "[2,]    0    5    7\n",
            "[3,]    5   80   80\n",
            "[4,]    1   -1   -2\n"
          ],
          "name": "stdout"
        }
      ]
    },
    {
      "cell_type": "code",
      "metadata": {
        "id": "UO7LLdQjnQG-",
        "colab": {
          "base_uri": "https://localhost:8080/",
          "height": 50
        },
        "outputId": "a6829876-5a61-4cb3-abb1-dbfadca910c4"
      },
      "source": [
        "diag(A)\r\n",
        "print(diag(A))"
      ],
      "execution_count": null,
      "outputs": [
        {
          "output_type": "display_data",
          "data": {
            "text/plain": [
              "[1]  2  5 80"
            ],
            "text/latex": "\\begin{enumerate*}\n\\item 2\n\\item 5\n\\item 80\n\\end{enumerate*}\n",
            "text/markdown": "1. 2\n2. 5\n3. 80\n\n\n",
            "text/html": [
              "<style>\n",
              ".list-inline {list-style: none; margin:0; padding: 0}\n",
              ".list-inline>li {display: inline-block}\n",
              ".list-inline>li:not(:last-child)::after {content: \"\\00b7\"; padding: 0 .5ex}\n",
              "</style>\n",
              "<ol class=list-inline><li>2</li><li>5</li><li>80</li></ol>\n"
            ]
          },
          "metadata": {
            "tags": []
          }
        },
        {
          "output_type": "stream",
          "text": [
            "[1]  2  5 80\n"
          ],
          "name": "stdout"
        }
      ]
    },
    {
      "cell_type": "code",
      "metadata": {
        "colab": {
          "base_uri": "https://localhost:8080/"
        },
        "id": "V4oMm1i5JyZ8",
        "outputId": "05638344-6d58-4098-cd2b-032151d0fda3"
      },
      "source": [
        "b<-rbind(A,c(10,11,12))\r\n",
        "print(b)"
      ],
      "execution_count": null,
      "outputs": [
        {
          "output_type": "stream",
          "text": [
            "     [,1] [,2] [,3]\n",
            "[1,]    2    3    4\n",
            "[2,]    0    5    7\n",
            "[3,]    5   80   80\n",
            "[4,]    1   -1   -2\n",
            "[5,]   10   11   12\n"
          ],
          "name": "stdout"
        }
      ]
    },
    {
      "cell_type": "code",
      "metadata": {
        "colab": {
          "base_uri": "https://localhost:8080/"
        },
        "id": "AIioN21HJyg8",
        "outputId": "d49520d3-dde9-4d46-aed8-558860a87dc8"
      },
      "source": [
        "c<-rbind(A,b)\r\n",
        "print(c)"
      ],
      "execution_count": null,
      "outputs": [
        {
          "output_type": "stream",
          "text": [
            "      [,1] [,2] [,3]\n",
            " [1,]    2    3    4\n",
            " [2,]    0    5    7\n",
            " [3,]    5   80   80\n",
            " [4,]    1   -1   -2\n",
            " [5,]    2    3    4\n",
            " [6,]    0    5    7\n",
            " [7,]    5   80   80\n",
            " [8,]    1   -1   -2\n",
            " [9,]   10   11   12\n"
          ],
          "name": "stdout"
        }
      ]
    },
    {
      "cell_type": "code",
      "metadata": {
        "id": "uM5rahQdnQLI",
        "colab": {
          "base_uri": "https://localhost:8080/"
        },
        "outputId": "e08b1a2c-f2cf-4283-affa-98de199d39c5"
      },
      "source": [
        "D<-cbind(A,c(10,11,12))\r\n",
        "print(D)"
      ],
      "execution_count": null,
      "outputs": [
        {
          "output_type": "stream",
          "text": [
            "Warning message in cbind(A, c(10, 11, 12)):\n",
            "“number of rows of result is not a multiple of vector length (arg 2)”\n"
          ],
          "name": "stderr"
        },
        {
          "output_type": "stream",
          "text": [
            "     [,1] [,2] [,3] [,4]\n",
            "[1,]    2    3    4   10\n",
            "[2,]    0    5    7   11\n",
            "[3,]    5   80   80   12\n",
            "[4,]    1   -1   -2   10\n"
          ],
          "name": "stdout"
        }
      ]
    },
    {
      "cell_type": "markdown",
      "metadata": {
        "id": "pmohm3xPKxUU"
      },
      "source": [
        "\r\n",
        "for rbind,cbind dimensions has to be match"
      ]
    },
    {
      "cell_type": "markdown",
      "metadata": {
        "id": "3hKT267BLJ3K"
      },
      "source": [
        "\r\n",
        "### matrix operations"
      ]
    },
    {
      "cell_type": "code",
      "metadata": {
        "colab": {
          "base_uri": "https://localhost:8080/"
        },
        "id": "ViF7pM_0KUYk",
        "outputId": "f4002113-77df-4a33-bb9a-d2a112ae751b"
      },
      "source": [
        "A<-matrix(c(1,2,3,4,5,6,7,8,9),nrow = 3,ncol = 3,byrow = T)\r\n",
        "print(A)\r\n",
        "B<-matrix(c(1,2,3,4,5,6,7,8,9),nrow = 3,ncol = 3)\r\n",
        "print(B)"
      ],
      "execution_count": null,
      "outputs": [
        {
          "output_type": "stream",
          "text": [
            "     [,1] [,2] [,3]\n",
            "[1,]    1    2    3\n",
            "[2,]    4    5    6\n",
            "[3,]    7    8    9\n",
            "     [,1] [,2] [,3]\n",
            "[1,]    1    4    7\n",
            "[2,]    2    5    8\n",
            "[3,]    3    6    9\n"
          ],
          "name": "stdout"
        }
      ]
    },
    {
      "cell_type": "code",
      "metadata": {
        "colab": {
          "base_uri": "https://localhost:8080/"
        },
        "id": "29gpCbmUKUd7",
        "outputId": "2992587d-4e08-4ebe-a5a6-ba8fda3714a6"
      },
      "source": [
        "C=A+B\r\n",
        "print(C)"
      ],
      "execution_count": null,
      "outputs": [
        {
          "output_type": "stream",
          "text": [
            "     [,1] [,2] [,3]\n",
            "[1,]    2    6   10\n",
            "[2,]    6   10   14\n",
            "[3,]   10   14   18\n"
          ],
          "name": "stdout"
        }
      ]
    },
    {
      "cell_type": "code",
      "metadata": {
        "colab": {
          "base_uri": "https://localhost:8080/"
        },
        "id": "ajuzEwfxLoRc",
        "outputId": "2aeaacd4-996b-4a81-8a5a-cb54c7ab64d3"
      },
      "source": [
        "print(A-B)\r\n",
        "print(A*B) #element wise multplication\r\n",
        "print(A %*%B ) #matrix multplication\r\n",
        "print(A/B)"
      ],
      "execution_count": null,
      "outputs": [
        {
          "output_type": "stream",
          "text": [
            "     [,1] [,2] [,3]\n",
            "[1,]    0   -2   -4\n",
            "[2,]    2    0   -2\n",
            "[3,]    4    2    0\n",
            "     [,1] [,2] [,3]\n",
            "[1,]    1    8   21\n",
            "[2,]    8   25   48\n",
            "[3,]   21   48   81\n",
            "     [,1] [,2] [,3]\n",
            "[1,]   14   32   50\n",
            "[2,]   32   77  122\n",
            "[3,]   50  122  194\n",
            "         [,1]     [,2]      [,3]\n",
            "[1,] 1.000000 0.500000 0.4285714\n",
            "[2,] 2.000000 1.000000 0.7500000\n",
            "[3,] 2.333333 1.333333 1.0000000\n"
          ],
          "name": "stdout"
        }
      ]
    },
    {
      "cell_type": "code",
      "metadata": {
        "colab": {
          "base_uri": "https://localhost:8080/",
          "height": 156
        },
        "id": "EY0J_-FuLoZc",
        "outputId": "e273efa3-6574-47ef-ab1a-6faefe1e5181"
      },
      "source": [
        "t(A)#transverse of A"
      ],
      "execution_count": null,
      "outputs": [
        {
          "output_type": "display_data",
          "data": {
            "text/plain": [
              "     [,1] [,2] [,3]\n",
              "[1,] 1    4    7   \n",
              "[2,] 2    5    8   \n",
              "[3,] 3    6    9   "
            ],
            "text/latex": "A matrix: 3 × 3 of type dbl\n\\begin{tabular}{lll}\n\t 1 & 4 & 7\\\\\n\t 2 & 5 & 8\\\\\n\t 3 & 6 & 9\\\\\n\\end{tabular}\n",
            "text/markdown": "\nA matrix: 3 × 3 of type dbl\n\n| 1 | 4 | 7 |\n| 2 | 5 | 8 |\n| 3 | 6 | 9 |\n\n",
            "text/html": [
              "<table class=\"dataframe\">\n",
              "<caption>A matrix: 3 × 3 of type dbl</caption>\n",
              "<tbody>\n",
              "\t<tr><td>1</td><td>4</td><td>7</td></tr>\n",
              "\t<tr><td>2</td><td>5</td><td>8</td></tr>\n",
              "\t<tr><td>3</td><td>6</td><td>9</td></tr>\n",
              "</tbody>\n",
              "</table>\n"
            ]
          },
          "metadata": {
            "tags": []
          }
        }
      ]
    },
    {
      "cell_type": "markdown",
      "metadata": {
        "id": "TS8pBH8tM6L4"
      },
      "source": [
        "https://cran.r-project.org/web/packages/matlib/vignettes/inv-ex1.html\r\n",
        "refer this for more math operations like det"
      ]
    },
    {
      "cell_type": "code",
      "metadata": {
        "colab": {
          "base_uri": "https://localhost:8080/",
          "height": 117
        },
        "id": "dsYyeoNrLodj",
        "outputId": "e05c844d-7440-40dd-e7dd-b851756b26a8"
      },
      "source": [
        "print(A)\r\n",
        "rowSums(A)\r\n",
        "colSums(A)"
      ],
      "execution_count": null,
      "outputs": [
        {
          "output_type": "stream",
          "text": [
            "     [,1] [,2] [,3]\n",
            "[1,]    1    2    3\n",
            "[2,]    4    5    6\n",
            "[3,]    7    8    9\n"
          ],
          "name": "stdout"
        },
        {
          "output_type": "display_data",
          "data": {
            "text/plain": [
              "[1]  6 15 24"
            ],
            "text/latex": "\\begin{enumerate*}\n\\item 6\n\\item 15\n\\item 24\n\\end{enumerate*}\n",
            "text/markdown": "1. 6\n2. 15\n3. 24\n\n\n",
            "text/html": [
              "<style>\n",
              ".list-inline {list-style: none; margin:0; padding: 0}\n",
              ".list-inline>li {display: inline-block}\n",
              ".list-inline>li:not(:last-child)::after {content: \"\\00b7\"; padding: 0 .5ex}\n",
              "</style>\n",
              "<ol class=list-inline><li>6</li><li>15</li><li>24</li></ol>\n"
            ]
          },
          "metadata": {
            "tags": []
          }
        },
        {
          "output_type": "display_data",
          "data": {
            "text/plain": [
              "[1] 12 15 18"
            ],
            "text/latex": "\\begin{enumerate*}\n\\item 12\n\\item 15\n\\item 18\n\\end{enumerate*}\n",
            "text/markdown": "1. 12\n2. 15\n3. 18\n\n\n",
            "text/html": [
              "<style>\n",
              ".list-inline {list-style: none; margin:0; padding: 0}\n",
              ".list-inline>li {display: inline-block}\n",
              ".list-inline>li:not(:last-child)::after {content: \"\\00b7\"; padding: 0 .5ex}\n",
              "</style>\n",
              "<ol class=list-inline><li>12</li><li>15</li><li>18</li></ol>\n"
            ]
          },
          "metadata": {
            "tags": []
          }
        }
      ]
    },
    {
      "cell_type": "code",
      "metadata": {
        "colab": {
          "base_uri": "https://localhost:8080/",
          "height": 33
        },
        "id": "_bPxidK8Ni5E",
        "outputId": "6ebb8b45-8e57-458f-f9b6-b24f9383276f"
      },
      "source": [
        "rowMeans(A)"
      ],
      "execution_count": null,
      "outputs": [
        {
          "output_type": "display_data",
          "data": {
            "text/plain": [
              "[1] 2 5 8"
            ],
            "text/latex": "\\begin{enumerate*}\n\\item 2\n\\item 5\n\\item 8\n\\end{enumerate*}\n",
            "text/markdown": "1. 2\n2. 5\n3. 8\n\n\n",
            "text/html": [
              "<style>\n",
              ".list-inline {list-style: none; margin:0; padding: 0}\n",
              ".list-inline>li {display: inline-block}\n",
              ".list-inline>li:not(:last-child)::after {content: \"\\00b7\"; padding: 0 .5ex}\n",
              "</style>\n",
              "<ol class=list-inline><li>2</li><li>5</li><li>8</li></ol>\n"
            ]
          },
          "metadata": {
            "tags": []
          }
        }
      ]
    },
    {
      "cell_type": "code",
      "metadata": {
        "colab": {
          "base_uri": "https://localhost:8080/",
          "height": 33
        },
        "id": "UIyxtAAGNi-6",
        "outputId": "0905ad12-ee2b-4053-bbfa-847ba955c85f"
      },
      "source": [
        "colMeans(A)"
      ],
      "execution_count": null,
      "outputs": [
        {
          "output_type": "display_data",
          "data": {
            "text/plain": [
              "[1] 4 5 6"
            ],
            "text/latex": "\\begin{enumerate*}\n\\item 4\n\\item 5\n\\item 6\n\\end{enumerate*}\n",
            "text/markdown": "1. 4\n2. 5\n3. 6\n\n\n",
            "text/html": [
              "<style>\n",
              ".list-inline {list-style: none; margin:0; padding: 0}\n",
              ".list-inline>li {display: inline-block}\n",
              ".list-inline>li:not(:last-child)::after {content: \"\\00b7\"; padding: 0 .5ex}\n",
              "</style>\n",
              "<ol class=list-inline><li>4</li><li>5</li><li>6</li></ol>\n"
            ]
          },
          "metadata": {
            "tags": []
          }
        }
      ]
    },
    {
      "cell_type": "code",
      "metadata": {
        "colab": {
          "base_uri": "https://localhost:8080/",
          "height": 50
        },
        "id": "BWowIY2LNjEY",
        "outputId": "8a6645f0-948b-4d95-c266-2f3568e07b21"
      },
      "source": [
        "apply(A,1,sum)#1 for row\r\n",
        "apply(A,2,sum) #2 for col"
      ],
      "execution_count": null,
      "outputs": [
        {
          "output_type": "display_data",
          "data": {
            "text/plain": [
              "[1]  6 15 24"
            ],
            "text/latex": "\\begin{enumerate*}\n\\item 6\n\\item 15\n\\item 24\n\\end{enumerate*}\n",
            "text/markdown": "1. 6\n2. 15\n3. 24\n\n\n",
            "text/html": [
              "<style>\n",
              ".list-inline {list-style: none; margin:0; padding: 0}\n",
              ".list-inline>li {display: inline-block}\n",
              ".list-inline>li:not(:last-child)::after {content: \"\\00b7\"; padding: 0 .5ex}\n",
              "</style>\n",
              "<ol class=list-inline><li>6</li><li>15</li><li>24</li></ol>\n"
            ]
          },
          "metadata": {
            "tags": []
          }
        },
        {
          "output_type": "display_data",
          "data": {
            "text/plain": [
              "[1] 12 15 18"
            ],
            "text/latex": "\\begin{enumerate*}\n\\item 12\n\\item 15\n\\item 18\n\\end{enumerate*}\n",
            "text/markdown": "1. 12\n2. 15\n3. 18\n\n\n",
            "text/html": [
              "<style>\n",
              ".list-inline {list-style: none; margin:0; padding: 0}\n",
              ".list-inline>li {display: inline-block}\n",
              ".list-inline>li:not(:last-child)::after {content: \"\\00b7\"; padding: 0 .5ex}\n",
              "</style>\n",
              "<ol class=list-inline><li>12</li><li>15</li><li>18</li></ol>\n"
            ]
          },
          "metadata": {
            "tags": []
          }
        }
      ]
    },
    {
      "cell_type": "markdown",
      "metadata": {
        "id": "H_0hSqOlOhvF"
      },
      "source": [
        "# LIST"
      ]
    },
    {
      "cell_type": "code",
      "metadata": {
        "colab": {
          "base_uri": "https://localhost:8080/",
          "height": 95
        },
        "id": "FFj2wwf0KUka",
        "outputId": "34f34532-0ff7-45c0-bcfc-24b7dfbd4f46"
      },
      "source": [
        "x<-list(1,\"karthik\",105.67)\r\n",
        "x"
      ],
      "execution_count": null,
      "outputs": [
        {
          "output_type": "display_data",
          "data": {
            "text/plain": [
              "[[1]]\n",
              "[1] 1\n",
              "\n",
              "[[2]]\n",
              "[1] \"karthik\"\n",
              "\n",
              "[[3]]\n",
              "[1] 105.67\n"
            ],
            "text/latex": "\\begin{enumerate}\n\\item 1\n\\item 'karthik'\n\\item 105.67\n\\end{enumerate}\n",
            "text/markdown": "1. 1\n2. 'karthik'\n3. 105.67\n\n\n",
            "text/html": [
              "<ol>\n",
              "\t<li>1</li>\n",
              "\t<li>'karthik'</li>\n",
              "\t<li>105.67</li>\n",
              "</ol>\n"
            ]
          },
          "metadata": {
            "tags": []
          }
        }
      ]
    },
    {
      "cell_type": "code",
      "metadata": {
        "colab": {
          "base_uri": "https://localhost:8080/",
          "height": 246
        },
        "id": "mlxT7DtWOkkg",
        "outputId": "0f55f1b3-005b-4bec-bbe3-37647b3d6807"
      },
      "source": [
        "rollno<-c(101,102,103,104,105)\r\n",
        "snames<-c('john','bob','alice')\r\n",
        "marks<-c(78.25,100,90.2)\r\n",
        "student<-list(rollno,snames,marks)\r\n",
        "student\r\n",
        "print(student)"
      ],
      "execution_count": null,
      "outputs": [
        {
          "output_type": "display_data",
          "data": {
            "text/plain": [
              "[[1]]\n",
              "[1] 101 102 103 104 105\n",
              "\n",
              "[[2]]\n",
              "[1] \"john\"  \"bob\"   \"alice\"\n",
              "\n",
              "[[3]]\n",
              "[1]  78.25 100.00  90.20\n"
            ],
            "text/latex": "\\begin{enumerate}\n\\item \\begin{enumerate*}\n\\item 101\n\\item 102\n\\item 103\n\\item 104\n\\item 105\n\\end{enumerate*}\n\n\\item \\begin{enumerate*}\n\\item 'john'\n\\item 'bob'\n\\item 'alice'\n\\end{enumerate*}\n\n\\item \\begin{enumerate*}\n\\item 78.25\n\\item 100\n\\item 90.2\n\\end{enumerate*}\n\n\\end{enumerate}\n",
            "text/markdown": "1. 1. 101\n2. 102\n3. 103\n4. 104\n5. 105\n\n\n\n2. 1. 'john'\n2. 'bob'\n3. 'alice'\n\n\n\n3. 1. 78.25\n2. 100\n3. 90.2\n\n\n\n\n\n",
            "text/html": [
              "<ol>\n",
              "\t<li><style>\n",
              ".list-inline {list-style: none; margin:0; padding: 0}\n",
              ".list-inline>li {display: inline-block}\n",
              ".list-inline>li:not(:last-child)::after {content: \"\\00b7\"; padding: 0 .5ex}\n",
              "</style>\n",
              "<ol class=list-inline><li>101</li><li>102</li><li>103</li><li>104</li><li>105</li></ol>\n",
              "</li>\n",
              "\t<li><style>\n",
              ".list-inline {list-style: none; margin:0; padding: 0}\n",
              ".list-inline>li {display: inline-block}\n",
              ".list-inline>li:not(:last-child)::after {content: \"\\00b7\"; padding: 0 .5ex}\n",
              "</style>\n",
              "<ol class=list-inline><li>'john'</li><li>'bob'</li><li>'alice'</li></ol>\n",
              "</li>\n",
              "\t<li><style>\n",
              ".list-inline {list-style: none; margin:0; padding: 0}\n",
              ".list-inline>li {display: inline-block}\n",
              ".list-inline>li:not(:last-child)::after {content: \"\\00b7\"; padding: 0 .5ex}\n",
              "</style>\n",
              "<ol class=list-inline><li>78.25</li><li>100</li><li>90.2</li></ol>\n",
              "</li>\n",
              "</ol>\n"
            ]
          },
          "metadata": {
            "tags": []
          }
        },
        {
          "output_type": "stream",
          "text": [
            "[[1]]\n",
            "[1] 101 102 103 104 105\n",
            "\n",
            "[[2]]\n",
            "[1] \"john\"  \"bob\"   \"alice\"\n",
            "\n",
            "[[3]]\n",
            "[1]  78.25 100.00  90.20\n",
            "\n"
          ],
          "name": "stdout"
        }
      ]
    },
    {
      "cell_type": "markdown",
      "metadata": {
        "id": "x6-EY8LsPxeU"
      },
      "source": [
        "the above is example for list with different datatypes,sizes\r\n",
        " "
      ]
    },
    {
      "cell_type": "code",
      "metadata": {
        "colab": {
          "base_uri": "https://localhost:8080/"
        },
        "id": "xOEIryCwOkov",
        "outputId": "c7ea4ac1-b237-4beb-bb93-3d527d7146d8"
      },
      "source": [
        "print(student[1])\r\n",
        "print(student[[1]])"
      ],
      "execution_count": null,
      "outputs": [
        {
          "output_type": "stream",
          "text": [
            "[[1]]\n",
            "[1] 101 102 103 104 105\n",
            "\n",
            "[1] 101 102 103 104 105\n"
          ],
          "name": "stdout"
        }
      ]
    },
    {
      "cell_type": "code",
      "metadata": {
        "colab": {
          "base_uri": "https://localhost:8080/"
        },
        "id": "Qg7OWSZ0OkvG",
        "outputId": "996e124b-0ec4-45b8-e0bf-d089ffff53d2"
      },
      "source": [
        "# $\r\n",
        "student<-list('id'=rollno,'name'=snames,'scores'=marks)\r\n",
        "print(student$scores)\r\n",
        "print(student[c('id')])\r\n",
        "print(\"----- ----- -----\")\r\n",
        "print(student[1:3])"
      ],
      "execution_count": null,
      "outputs": [
        {
          "output_type": "stream",
          "text": [
            "[1]  78.25 100.00  90.20\n",
            "$id\n",
            "[1] 101 102 103 104 105\n",
            "\n",
            "[1] \"----- ----- -----\"\n",
            "$id\n",
            "[1] 101 102 103 104 105\n",
            "\n",
            "$name\n",
            "[1] \"john\"  \"bob\"   \"alice\"\n",
            "\n",
            "$scores\n",
            "[1]  78.25 100.00  90.20\n",
            "\n"
          ],
          "name": "stdout"
        }
      ]
    },
    {
      "cell_type": "markdown",
      "metadata": {
        "id": "9nj2B5AmRvkw"
      },
      "source": [
        "list concat"
      ]
    },
    {
      "cell_type": "code",
      "metadata": {
        "colab": {
          "base_uri": "https://localhost:8080/"
        },
        "id": "v4smZUqSRttS",
        "outputId": "d3ebe424-ef5f-45e4-d10f-a005611ad109"
      },
      "source": [
        "rollno<-c(101,102,103,104,105)\r\n",
        "snames<-c('john','bob','alice')\r\n",
        "marks<-c(78.25,100,90.2)\r\n",
        "student<-list(rollno,snames,marks)\r\n",
        "age<-list(c(19,20,18))\r\n",
        "students<-c(student,age)\r\n",
        "print(students)"
      ],
      "execution_count": null,
      "outputs": [
        {
          "output_type": "stream",
          "text": [
            "[[1]]\n",
            "[1] 101 102 103 104 105\n",
            "\n",
            "[[2]]\n",
            "[1] \"john\"  \"bob\"   \"alice\"\n",
            "\n",
            "[[3]]\n",
            "[1]  78.25 100.00  90.20\n",
            "\n",
            "[[4]]\n",
            "[1] 19 20 18\n",
            "\n"
          ],
          "name": "stdout"
        }
      ]
    },
    {
      "cell_type": "code",
      "metadata": {
        "colab": {
          "base_uri": "https://localhost:8080/"
        },
        "id": "rRk0jCrzRt52",
        "outputId": "6c188248-2743-4b20-c562-7181fbcaf7f3"
      },
      "source": [
        "print(student)#this is the list created before"
      ],
      "execution_count": null,
      "outputs": [
        {
          "output_type": "stream",
          "text": [
            "[[1]]\n",
            "[1] 101 102 103 104 105\n",
            "\n",
            "[[2]]\n",
            "[1] \"john\"  \"bob\"   \"alice\"\n",
            "\n",
            "[[3]]\n",
            "[1]  78.25 100.00  90.20\n",
            "\n"
          ],
          "name": "stdout"
        }
      ]
    },
    {
      "cell_type": "markdown",
      "metadata": {
        "id": "JhpgsQrrSNpP"
      },
      "source": [
        "# DATAFRAMES\r\n"
      ]
    },
    {
      "cell_type": "code",
      "metadata": {
        "colab": {
          "base_uri": "https://localhost:8080/",
          "height": 183
        },
        "id": "xLGrYYKaRtzb",
        "outputId": "21545fce-45f9-4455-a77e-c2204c548c28"
      },
      "source": [
        "id<-c(101,102,103)\r\n",
        "names<-c('john','bob','alice')\r\n",
        "marks<-c(78.25,100,90.2)\r\n",
        "stu<-data.frame(id,names,marks)\r\n",
        "stu"
      ],
      "execution_count": null,
      "outputs": [
        {
          "output_type": "display_data",
          "data": {
            "text/plain": [
              "  id  names marks \n",
              "1 101 john   78.25\n",
              "2 102 bob   100.00\n",
              "3 103 alice  90.20"
            ],
            "text/latex": "A data.frame: 3 × 3\n\\begin{tabular}{lll}\n id & names & marks\\\\\n <dbl> & <chr> & <dbl>\\\\\n\\hline\n\t 101 & john  &  78.25\\\\\n\t 102 & bob   & 100.00\\\\\n\t 103 & alice &  90.20\\\\\n\\end{tabular}\n",
            "text/markdown": "\nA data.frame: 3 × 3\n\n| id &lt;dbl&gt; | names &lt;chr&gt; | marks &lt;dbl&gt; |\n|---|---|---|\n| 101 | john  |  78.25 |\n| 102 | bob   | 100.00 |\n| 103 | alice |  90.20 |\n\n",
            "text/html": [
              "<table class=\"dataframe\">\n",
              "<caption>A data.frame: 3 × 3</caption>\n",
              "<thead>\n",
              "\t<tr><th scope=col>id</th><th scope=col>names</th><th scope=col>marks</th></tr>\n",
              "\t<tr><th scope=col>&lt;dbl&gt;</th><th scope=col>&lt;chr&gt;</th><th scope=col>&lt;dbl&gt;</th></tr>\n",
              "</thead>\n",
              "<tbody>\n",
              "\t<tr><td>101</td><td>john </td><td> 78.25</td></tr>\n",
              "\t<tr><td>102</td><td>bob  </td><td>100.00</td></tr>\n",
              "\t<tr><td>103</td><td>alice</td><td> 90.20</td></tr>\n",
              "</tbody>\n",
              "</table>\n"
            ]
          },
          "metadata": {
            "tags": []
          }
        }
      ]
    },
    {
      "cell_type": "code",
      "metadata": {
        "colab": {
          "base_uri": "https://localhost:8080/"
        },
        "id": "UTPI4eQsTSS4",
        "outputId": "604908e2-d12f-4b88-9561-cabe0162059d"
      },
      "source": [
        "print(stu[2,])\r\n",
        "print(stu[2:3,])"
      ],
      "execution_count": null,
      "outputs": [
        {
          "output_type": "stream",
          "text": [
            "   id names marks\n",
            "2 102   bob   100\n",
            "   id names marks\n",
            "2 102   bob 100.0\n",
            "3 103 alice  90.2\n"
          ],
          "name": "stdout"
        }
      ]
    },
    {
      "cell_type": "code",
      "metadata": {
        "colab": {
          "base_uri": "https://localhost:8080/"
        },
        "id": "AcV8yX0HTSYa",
        "outputId": "f340c6cb-65ef-47b3-b797-e99e43665a22"
      },
      "source": [
        "print(stu[,1])"
      ],
      "execution_count": null,
      "outputs": [
        {
          "output_type": "stream",
          "text": [
            "[1] 101 102 103\n"
          ],
          "name": "stdout"
        }
      ]
    },
    {
      "cell_type": "code",
      "metadata": {
        "colab": {
          "base_uri": "https://localhost:8080/"
        },
        "id": "VVgNQSHdUBEO",
        "outputId": "58880fb7-d2f1-4f3e-e969-a79cb9b91d50"
      },
      "source": [
        "print(stu[2:3,1:3])"
      ],
      "execution_count": null,
      "outputs": [
        {
          "output_type": "stream",
          "text": [
            "   id names marks\n",
            "2 102   bob 100.0\n",
            "3 103 alice  90.2\n"
          ],
          "name": "stdout"
        }
      ]
    },
    {
      "cell_type": "code",
      "metadata": {
        "colab": {
          "base_uri": "https://localhost:8080/"
        },
        "id": "efgK4pU3TSeS",
        "outputId": "d99bf46e-b173-4c4e-cdd1-c899ad51a76e"
      },
      "source": [
        "print(stu[-2,-3])#to remove we use -"
      ],
      "execution_count": null,
      "outputs": [
        {
          "output_type": "stream",
          "text": [
            "   id names\n",
            "1 101  john\n",
            "3 103 alice\n"
          ],
          "name": "stdout"
        }
      ]
    },
    {
      "cell_type": "code",
      "metadata": {
        "colab": {
          "base_uri": "https://localhost:8080/"
        },
        "id": "oVbUOUMkRt-x",
        "outputId": "c5ba64bd-f0f2-4b6a-ff2b-2f910866fea6"
      },
      "source": [
        "print(stu[[2]][1])\r\n",
        "print(stu$id)\r\n",
        "print(stu$id[1])"
      ],
      "execution_count": null,
      "outputs": [
        {
          "output_type": "stream",
          "text": [
            "[1] \"john\"\n",
            "[1] 101 102 103\n",
            "[1] 101\n"
          ],
          "name": "stdout"
        }
      ]
    },
    {
      "cell_type": "markdown",
      "metadata": {
        "id": "ALvlACslVV76"
      },
      "source": [
        "subset()"
      ]
    },
    {
      "cell_type": "code",
      "metadata": {
        "colab": {
          "base_uri": "https://localhost:8080/"
        },
        "id": "f4cGVswMOk0r",
        "outputId": "4f831faf-fb29-4419-bff9-554dab4c8bec"
      },
      "source": [
        "id<-c(101,102,103)\r\n",
        "names<-c('john','bob','alice')\r\n",
        "marks<-c(78.25,100,90.2)\r\n",
        "stu<-data.frame(id,names,marks)\r\n",
        "#stu\r\n",
        "report<-subset(stu,marks>90)\r\n",
        "print(report)"
      ],
      "execution_count": null,
      "outputs": [
        {
          "output_type": "stream",
          "text": [
            "   id names marks\n",
            "2 102   bob 100.0\n",
            "3 103 alice  90.2\n"
          ],
          "name": "stdout"
        }
      ]
    },
    {
      "cell_type": "code",
      "metadata": {
        "colab": {
          "base_uri": "https://localhost:8080/"
        },
        "id": "34-Q3ulLVbpI",
        "outputId": "2e523bbb-e69e-427d-fc9e-3aa1b74f7f83"
      },
      "source": [
        "report<-subset(stu,marks>90,select=c(names,marks))\r\n",
        "print(report)"
      ],
      "execution_count": null,
      "outputs": [
        {
          "output_type": "stream",
          "text": [
            "  names marks\n",
            "2   bob 100.0\n",
            "3 alice  90.2\n"
          ],
          "name": "stdout"
        }
      ]
    },
    {
      "cell_type": "markdown",
      "metadata": {
        "id": "4y6D-FalWqQe"
      },
      "source": [
        "rbind,cbind in dataframe"
      ]
    },
    {
      "cell_type": "code",
      "metadata": {
        "colab": {
          "base_uri": "https://localhost:8080/",
          "height": 213
        },
        "id": "d4pTq8ChVbvv",
        "outputId": "16fd5792-32cf-45a8-cad8-7108c7b0bcac"
      },
      "source": [
        "stud<-rbind(stu,data.frame(id=104,names='vk',marks=80.52))\r\n",
        "stud"
      ],
      "execution_count": null,
      "outputs": [
        {
          "output_type": "display_data",
          "data": {
            "text/plain": [
              "  id  names marks \n",
              "1 101 john   78.25\n",
              "2 102 bob   100.00\n",
              "3 103 alice  90.20\n",
              "4 104 vk     80.52"
            ],
            "text/latex": "A data.frame: 4 × 3\n\\begin{tabular}{lll}\n id & names & marks\\\\\n <dbl> & <chr> & <dbl>\\\\\n\\hline\n\t 101 & john  &  78.25\\\\\n\t 102 & bob   & 100.00\\\\\n\t 103 & alice &  90.20\\\\\n\t 104 & vk    &  80.52\\\\\n\\end{tabular}\n",
            "text/markdown": "\nA data.frame: 4 × 3\n\n| id &lt;dbl&gt; | names &lt;chr&gt; | marks &lt;dbl&gt; |\n|---|---|---|\n| 101 | john  |  78.25 |\n| 102 | bob   | 100.00 |\n| 103 | alice |  90.20 |\n| 104 | vk    |  80.52 |\n\n",
            "text/html": [
              "<table class=\"dataframe\">\n",
              "<caption>A data.frame: 4 × 3</caption>\n",
              "<thead>\n",
              "\t<tr><th scope=col>id</th><th scope=col>names</th><th scope=col>marks</th></tr>\n",
              "\t<tr><th scope=col>&lt;dbl&gt;</th><th scope=col>&lt;chr&gt;</th><th scope=col>&lt;dbl&gt;</th></tr>\n",
              "</thead>\n",
              "<tbody>\n",
              "\t<tr><td>101</td><td>john </td><td> 78.25</td></tr>\n",
              "\t<tr><td>102</td><td>bob  </td><td>100.00</td></tr>\n",
              "\t<tr><td>103</td><td>alice</td><td> 90.20</td></tr>\n",
              "\t<tr><td>104</td><td>vk   </td><td> 80.52</td></tr>\n",
              "</tbody>\n",
              "</table>\n"
            ]
          },
          "metadata": {
            "tags": []
          }
        }
      ]
    },
    {
      "cell_type": "code",
      "metadata": {
        "colab": {
          "base_uri": "https://localhost:8080/",
          "height": 183
        },
        "id": "mk3i3_hwVb2n",
        "outputId": "70de9f2b-273c-455e-cec7-a8cc180582b1"
      },
      "source": [
        "stud<-cbind(stu,age=c(18,19,20))\r\n",
        "stud"
      ],
      "execution_count": null,
      "outputs": [
        {
          "output_type": "display_data",
          "data": {
            "text/plain": [
              "  id  names marks  age\n",
              "1 101 john   78.25 18 \n",
              "2 102 bob   100.00 19 \n",
              "3 103 alice  90.20 20 "
            ],
            "text/latex": "A data.frame: 3 × 4\n\\begin{tabular}{llll}\n id & names & marks & age\\\\\n <dbl> & <chr> & <dbl> & <dbl>\\\\\n\\hline\n\t 101 & john  &  78.25 & 18\\\\\n\t 102 & bob   & 100.00 & 19\\\\\n\t 103 & alice &  90.20 & 20\\\\\n\\end{tabular}\n",
            "text/markdown": "\nA data.frame: 3 × 4\n\n| id &lt;dbl&gt; | names &lt;chr&gt; | marks &lt;dbl&gt; | age &lt;dbl&gt; |\n|---|---|---|---|\n| 101 | john  |  78.25 | 18 |\n| 102 | bob   | 100.00 | 19 |\n| 103 | alice |  90.20 | 20 |\n\n",
            "text/html": [
              "<table class=\"dataframe\">\n",
              "<caption>A data.frame: 3 × 4</caption>\n",
              "<thead>\n",
              "\t<tr><th scope=col>id</th><th scope=col>names</th><th scope=col>marks</th><th scope=col>age</th></tr>\n",
              "\t<tr><th scope=col>&lt;dbl&gt;</th><th scope=col>&lt;chr&gt;</th><th scope=col>&lt;dbl&gt;</th><th scope=col>&lt;dbl&gt;</th></tr>\n",
              "</thead>\n",
              "<tbody>\n",
              "\t<tr><td>101</td><td>john </td><td> 78.25</td><td>18</td></tr>\n",
              "\t<tr><td>102</td><td>bob  </td><td>100.00</td><td>19</td></tr>\n",
              "\t<tr><td>103</td><td>alice</td><td> 90.20</td><td>20</td></tr>\n",
              "</tbody>\n",
              "</table>\n"
            ]
          },
          "metadata": {
            "tags": []
          }
        }
      ]
    },
    {
      "cell_type": "markdown",
      "metadata": {
        "id": "C8IRlIw1XiF1"
      },
      "source": [
        "edit()"
      ]
    },
    {
      "cell_type": "code",
      "metadata": {
        "colab": {
          "base_uri": "https://localhost:8080/",
          "height": 145
        },
        "id": "IQtMkHwnVb9I",
        "outputId": "503e25b0-cd0e-4c5d-f046-4661d4040a97"
      },
      "source": [
        "stutable<-edit(stu)\r\n",
        "stutable"
      ],
      "execution_count": null,
      "outputs": [
        {
          "output_type": "error",
          "ename": "ERROR",
          "evalue": "ignored",
          "traceback": [
            "Error in edit(stu): ‘edit()’ not yet supported in the Jupyter R kernel\nTraceback:\n",
            "1. edit(stu)",
            "2. stop(sQuote(\"edit()\"), \" not yet supported in the Jupyter R kernel\")"
          ]
        }
      ]
    },
    {
      "cell_type": "markdown",
      "metadata": {
        "id": "uT3PrTVGYDAG"
      },
      "source": [
        "missing dat"
      ]
    },
    {
      "cell_type": "code",
      "metadata": {
        "colab": {
          "base_uri": "https://localhost:8080/",
          "height": 33
        },
        "id": "BUC83B3dXwou",
        "outputId": "7149158e-947b-4af9-b4b7-809d3b03b88d"
      },
      "source": [
        "x<-c(10,NA,45.6)\r\n",
        "is.na(x)"
      ],
      "execution_count": null,
      "outputs": [
        {
          "output_type": "display_data",
          "data": {
            "text/plain": [
              "[1] FALSE  TRUE FALSE"
            ],
            "text/latex": "\\begin{enumerate*}\n\\item FALSE\n\\item TRUE\n\\item FALSE\n\\end{enumerate*}\n",
            "text/markdown": "1. FALSE\n2. TRUE\n3. FALSE\n\n\n",
            "text/html": [
              "<style>\n",
              ".list-inline {list-style: none; margin:0; padding: 0}\n",
              ".list-inline>li {display: inline-block}\n",
              ".list-inline>li:not(:last-child)::after {content: \"\\00b7\"; padding: 0 .5ex}\n",
              "</style>\n",
              "<ol class=list-inline><li>FALSE</li><li>TRUE</li><li>FALSE</li></ol>\n"
            ]
          },
          "metadata": {
            "tags": []
          }
        }
      ]
    },
    {
      "cell_type": "code",
      "metadata": {
        "colab": {
          "base_uri": "https://localhost:8080/",
          "height": 33
        },
        "id": "wsfWzhk7VcEm",
        "outputId": "22f542b9-4a74-4ada-fbf0-07004a61ef40"
      },
      "source": [
        "x<-c(10,NA,45.6,NaN)\r\n",
        "y<-is.nan(x)\r\n",
        "y"
      ],
      "execution_count": null,
      "outputs": [
        {
          "output_type": "display_data",
          "data": {
            "text/plain": [
              "[1] FALSE FALSE FALSE  TRUE"
            ],
            "text/latex": "\\begin{enumerate*}\n\\item FALSE\n\\item FALSE\n\\item FALSE\n\\item TRUE\n\\end{enumerate*}\n",
            "text/markdown": "1. FALSE\n2. FALSE\n3. FALSE\n4. TRUE\n\n\n",
            "text/html": [
              "<style>\n",
              ".list-inline {list-style: none; margin:0; padding: 0}\n",
              ".list-inline>li {display: inline-block}\n",
              ".list-inline>li:not(:last-child)::after {content: \"\\00b7\"; padding: 0 .5ex}\n",
              "</style>\n",
              "<ol class=list-inline><li>FALSE</li><li>FALSE</li><li>FALSE</li><li>TRUE</li></ol>\n"
            ]
          },
          "metadata": {
            "tags": []
          }
        }
      ]
    },
    {
      "cell_type": "code",
      "metadata": {
        "colab": {
          "base_uri": "https://localhost:8080/",
          "height": 33
        },
        "id": "rm0NvUneYgF5",
        "outputId": "b11cef3c-fd1f-4203-8e9c-c675982f43ef"
      },
      "source": [
        "x[!y]#removed nan"
      ],
      "execution_count": null,
      "outputs": [
        {
          "output_type": "display_data",
          "data": {
            "text/plain": [
              "[1] 10.0   NA 45.6"
            ],
            "text/latex": "\\begin{enumerate*}\n\\item 10\n\\item <NA>\n\\item 45.6\n\\end{enumerate*}\n",
            "text/markdown": "1. 10\n2. &lt;NA&gt;\n3. 45.6\n\n\n",
            "text/html": [
              "<style>\n",
              ".list-inline {list-style: none; margin:0; padding: 0}\n",
              ".list-inline>li {display: inline-block}\n",
              ".list-inline>li:not(:last-child)::after {content: \"\\00b7\"; padding: 0 .5ex}\n",
              "</style>\n",
              "<ol class=list-inline><li>10</li><li>&lt;NA&gt;</li><li>45.6</li></ol>\n"
            ]
          },
          "metadata": {
            "tags": []
          }
        }
      ]
    },
    {
      "cell_type": "code",
      "metadata": {
        "colab": {
          "base_uri": "https://localhost:8080/"
        },
        "id": "coFlUe2bYgK6",
        "outputId": "c0e3f212-e8ac-484a-e1ae-f75e9267341f"
      },
      "source": [
        "id<-c(101,102,103,104,105)\r\n",
        "temp<-c(25.8,34.2,NA,27.4,20.5)\r\n",
        "wind<-c(25,45,78,40,68)\r\n",
        "humidity<-c(25,45,85,NA,61)\r\n",
        "weather<-data.frame(id,temp,wind,humidity)\r\n",
        "print(weather)"
      ],
      "execution_count": null,
      "outputs": [
        {
          "output_type": "stream",
          "text": [
            "   id temp wind humidity\n",
            "1 101 25.8   25       25\n",
            "2 102 34.2   45       45\n",
            "3 103   NA   78       85\n",
            "4 104 27.4   40       NA\n",
            "5 105 20.5   68       61\n"
          ],
          "name": "stdout"
        }
      ]
    },
    {
      "cell_type": "code",
      "metadata": {
        "colab": {
          "base_uri": "https://localhost:8080/",
          "height": 100
        },
        "id": "W0231Zz4t206",
        "outputId": "16a79d63-2a35-406b-e7e6-6bae792f8b47"
      },
      "source": [
        "weatherNA<-complete.cases(weather)\r\n",
        "weatherNA\r\n",
        "print(weather[weatherNA,])"
      ],
      "execution_count": null,
      "outputs": [
        {
          "output_type": "display_data",
          "data": {
            "text/plain": [
              "[1]  TRUE  TRUE FALSE FALSE  TRUE"
            ],
            "text/latex": "\\begin{enumerate*}\n\\item TRUE\n\\item TRUE\n\\item FALSE\n\\item FALSE\n\\item TRUE\n\\end{enumerate*}\n",
            "text/markdown": "1. TRUE\n2. TRUE\n3. FALSE\n4. FALSE\n5. TRUE\n\n\n",
            "text/html": [
              "<style>\n",
              ".list-inline {list-style: none; margin:0; padding: 0}\n",
              ".list-inline>li {display: inline-block}\n",
              ".list-inline>li:not(:last-child)::after {content: \"\\00b7\"; padding: 0 .5ex}\n",
              "</style>\n",
              "<ol class=list-inline><li>TRUE</li><li>TRUE</li><li>FALSE</li><li>FALSE</li><li>TRUE</li></ol>\n"
            ]
          },
          "metadata": {
            "tags": []
          }
        },
        {
          "output_type": "stream",
          "text": [
            "   id temp wind humidity\n",
            "1 101 25.8   25       25\n",
            "2 102 34.2   45       45\n",
            "5 105 20.5   68       61\n"
          ],
          "name": "stdout"
        }
      ]
    }
  ]
}